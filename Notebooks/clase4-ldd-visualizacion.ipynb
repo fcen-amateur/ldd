{
 "cells": [
  {
   "cell_type": "code",
   "execution_count": null,
   "id": "f71c1161-a2d1-4ed3-825f-9ee960ff94d5",
   "metadata": {},
   "outputs": [],
   "source": [
    "import numpy as np\n",
    "import pandas as pd\n",
    "import matplotlib.pyplot as plt\n",
    "import seaborn as sns\n",
    "import seaborn.objects as so"
   ]
  },
  {
   "cell_type": "code",
   "execution_count": null,
   "id": "c153871d",
   "metadata": {},
   "outputs": [],
   "source": [
    "# Para instalar seaborn si no está instalado\n",
    "#pip install seaborn\n",
    "\n",
    "# Para actualizar seaborn si tienen una versión anterior a 0.12.2\n",
    "#pip install seaborn --upgrade"
   ]
  },
  {
   "cell_type": "code",
   "execution_count": null,
   "id": "3e67fbe5-6a7f-4bae-b0da-653ca1146007",
   "metadata": {},
   "outputs": [],
   "source": [
    "# Verificar que tengamos la version 0.12.2 o superior\n",
    "sns.__version__"
   ]
  },
  {
   "cell_type": "markdown",
   "id": "4739e738-c901-4cc5-b386-2a1ea091ec97",
   "metadata": {},
   "source": [
    "# Visualización\n",
    "\n",
    "## Seaborn objects y la gramática de gráficos\n",
    "\n",
    "Introducidos a finales de 2022, el nuevo sistema está basado el paradigma \"Gramática de Gráficos\" que utilizan otros paquetes como `ggplot2` de R.\n",
    "\n",
    "No necesitamos recordar una docena de métodos para hacer gráficos, todo gráfico se hace mediante una única clase `Plot()`.n"
   ]
  },
  {
   "cell_type": "code",
   "execution_count": null,
   "id": "c9e1d4ac-94ae-4f61-958d-2ec04573ca79",
   "metadata": {},
   "outputs": [],
   "source": [
    "# Comenzamos con un gráfico vacío\n",
    "so.Plot()"
   ]
  },
  {
   "cell_type": "code",
   "execution_count": null,
   "id": "35b51e16-973d-42cd-a99b-f5d400ab9df5",
   "metadata": {},
   "outputs": [],
   "source": [
    "# Agregamos un conjunto de datos, por ejemplo un dataset con el índice Dow Jones de las bolsas de Estados Unidos.\n",
    "dowjones = sns.load_dataset(\"dowjones\")\n",
    "dowjones.head()\n"
   ]
  },
  {
   "cell_type": "code",
   "execution_count": null,
   "id": "a4baf9b8-9ec9-4a35-9fc6-a77f83f78c27",
   "metadata": {},
   "outputs": [],
   "source": [
    "so.Plot(data = dowjones)"
   ]
  },
  {
   "cell_type": "code",
   "execution_count": null,
   "id": "bb95b901-3aef-44ab-a0df-c346db8fa3d4",
   "metadata": {},
   "outputs": [],
   "source": [
    "# Mapeamos la fecha al eje X y el precio al eje Y\n",
    "so.Plot(data = dowjones, x = \"Date\", y = \"Price\")"
   ]
  },
  {
   "cell_type": "markdown",
   "id": "827ca5ab-56cc-4737-b018-b3649d257a2a",
   "metadata": {},
   "source": [
    "### Gráfico de funciones"
   ]
  },
  {
   "cell_type": "code",
   "execution_count": null,
   "id": "8951043a-8475-44ba-8034-ef285a6a5a94",
   "metadata": {},
   "outputs": [],
   "source": [
    "# Finalmente agregamos una marca, en este caso una curva.\n",
    "# Usamos paréntesis para poder separar el comando en varias líneas y facilitar la lectura.\n",
    "(\n",
    "    so.Plot(data = dowjones, x = \"Date\", y = \"Price\")\n",
    "    .add(so.Line())\n",
    ")"
   ]
  },
  {
   "cell_type": "markdown",
   "id": "f8d7d606-9fb0-4d05-97d6-8c1bc5a8fb83",
   "metadata": {},
   "source": [
    "### Gráfico de dispersión (scatter plot)"
   ]
  },
  {
   "cell_type": "code",
   "execution_count": null,
   "id": "f5abeac1-0234-4878-91ea-89ac3ae6cc0b",
   "metadata": {},
   "outputs": [],
   "source": [
    "tips = sns.load_dataset(\"tips\")\n",
    "tips.head()"
   ]
  },
  {
   "cell_type": "code",
   "execution_count": null,
   "id": "e6268dc3-0766-4e48-b7fc-56217ec1d273",
   "metadata": {},
   "outputs": [],
   "source": [
    "# Para usar puntos en vez de curvas, cambiamos la marca a Dot().\n",
    "(\n",
    "    so.Plot(data = tips, x = \"total_bill\", y = \"tip\")\n",
    "    .add(so.Dot())\n",
    ")\n"
   ]
  },
  {
   "cell_type": "markdown",
   "id": "add5fc52-dab5-422a-a745-c7b204c4e757",
   "metadata": {},
   "source": [
    "### Gráfico de curvas y puntos?"
   ]
  },
  {
   "cell_type": "code",
   "execution_count": null,
   "id": "32ba73b7-082e-4340-ab33-77adf8eddb45",
   "metadata": {},
   "outputs": [],
   "source": [
    "flights = sns.load_dataset(\"flights\")\n",
    "flights.head()"
   ]
  },
  {
   "cell_type": "code",
   "execution_count": null,
   "id": "76be2d6c-fc6c-4db7-abba-fd090b9303ba",
   "metadata": {},
   "outputs": [],
   "source": [
    "# Graficamos la curva cantidad de pasajeros en enero de cada año\n",
    "vuelosEnero = flights[flights.month == \"Jan\"]\n",
    "(\n",
    "    so.Plot(data = vuelosEnero, x = \"year\", y = \"passengers\")\n",
    "    .add(so.Line())\n",
    ")"
   ]
  },
  {
   "cell_type": "code",
   "execution_count": null,
   "id": "349fd373-e270-47f5-aee0-f555fa46ed04",
   "metadata": {},
   "outputs": [],
   "source": [
    "# Si queremos agregar los puntos correspondientes a cada dato...\n",
    "(\n",
    "    so.Plot(data = flights[flights.month == \"Jan\"], x = \"year\", y = \"passengers\")\n",
    "    .add(so.Line())\n",
    "    .add(so.Dot())\n",
    ")"
   ]
  },
  {
   "cell_type": "markdown",
   "id": "9c03f0f5-44d1-47e0-b1ca-9950813a7d68",
   "metadata": {},
   "source": [
    "Podemos también fácilmente agregar datos (aggregate = agregar, juntar, resumir, ...)"
   ]
  },
  {
   "cell_type": "code",
   "execution_count": null,
   "id": "a654ec6d-c114-4679-838b-69cdc7217d2a",
   "metadata": {},
   "outputs": [],
   "source": [
    "# Queremos considerar todos los meses. \n",
    "# Si sacamos el filtro...\n",
    "\n",
    "(\n",
    "    so.Plot(data = flights, x = \"year\", y = \"passengers\")\n",
    "    .add(so.Dot())\n",
    ")"
   ]
  },
  {
   "cell_type": "code",
   "execution_count": null,
   "id": "c26bc546-94db-4e3b-8d34-fe727cce1503",
   "metadata": {},
   "outputs": [],
   "source": [
    "# Opción 1: utilizamos otro canal para codificar el mes\n",
    "(\n",
    "    so.Plot(data = flights, x = \"year\", y = \"passengers\", color = \"month\")\n",
    "    .add(so.Dot())\n",
    ")"
   ]
  },
  {
   "cell_type": "code",
   "execution_count": null,
   "id": "6469e786-16d3-4909-9c67-fd560b12ce83",
   "metadata": {},
   "outputs": [],
   "source": [
    "# Y si usamos líneas?\n",
    "(\n",
    "    so.Plot(data = flights, x = \"year\", y = \"passengers\", color = \"month\")\n",
    "    .add(so.Line())\n",
    ")"
   ]
  },
  {
   "cell_type": "code",
   "execution_count": null,
   "id": "85b238e7-2f3f-48a6-abc6-8363adaf1f48",
   "metadata": {},
   "outputs": [],
   "source": [
    "# Opción 2: agregamos los datos por mes\n",
    "# Podemos calcularlos previamente utilizando lo que vimos en la práctica 2 (groupby(), sum(), ...)\n",
    "# o usamos una función para agregar los datos.\n",
    "(\n",
    "    so.Plot(data = flights, x = \"year\", y = \"passengers\")\n",
    "    .add(so.Dot(), so.Agg(\"mean\"))\n",
    ")"
   ]
  },
  {
   "cell_type": "code",
   "execution_count": null,
   "id": "a31b93df-2e40-46ff-975e-6e86dd3cac47",
   "metadata": {},
   "outputs": [],
   "source": [
    "# Qué valores está graficando? Es la suma??\n",
    "# Podemos indicar cualquier función de Pandas.Series para agregar los datos\n",
    "(\n",
    "    so.Plot(data = flights, x = \"year\", y = \"passengers\")\n",
    "    .add(so.Dot(), so.Agg(\"sum\"))\n",
    "    .add(so.Line(), so.Agg(\"sum\"))\n",
    ")"
   ]
  },
  {
   "cell_type": "markdown",
   "id": "70d52fc8-89fa-4f16-aa84-c706c7b9bf48",
   "metadata": {},
   "source": [
    "## Mapeo y asignación por capas"
   ]
  },
  {
   "cell_type": "code",
   "execution_count": null,
   "id": "b6692ac6-63c5-4238-81a0-e549edf03da7",
   "metadata": {},
   "outputs": [],
   "source": [
    "# Podemos asignar una codificación al definir el Plot() y esa codificación para a todas las capas.\n",
    "(\n",
    "    so.Plot(data = flights, x = \"year\", y = \"passengers\", color = \"month\")\n",
    "    .add(so.Line())\n",
    "    .add(so.Dot())\n",
    ")"
   ]
  },
  {
   "cell_type": "code",
   "execution_count": null,
   "id": "15ecf792-f66f-49fb-9d56-d02907863910",
   "metadata": {},
   "outputs": [],
   "source": [
    "# O podemos asignar una codificación al agregar una marca y esa codificación se aplica solo en esa capa.\n",
    "(\n",
    "    so.Plot(data = flights, x = \"year\", y = \"passengers\")\n",
    "    .add(so.Line(), color = \"month\")\n",
    "    .add(so.Dot())\n",
    ")"
   ]
  },
  {
   "cell_type": "code",
   "execution_count": null,
   "id": "bdef164b-745f-4fb2-b2f6-2b38ee902129",
   "metadata": {},
   "outputs": [],
   "source": [
    "# Si asignamos un pámatetro a la marca Dot() u otra marca,\n",
    "# no estamos codificando datos sino que asignamos el valor directamente.\n",
    "(\n",
    "    so.Plot(data = flights, x = \"year\", y = \"passengers\")\n",
    "    .add(so.Line(), color = \"month\")\n",
    "    .add(so.Dot(color = \"red\")),\n",
    ")\n"
   ]
  },
  {
   "cell_type": "code",
   "execution_count": null,
   "id": "4d6d103a",
   "metadata": {},
   "outputs": [],
   "source": [
    "# Si asignamos un pámatetro a la marca Dot() u otra marca,\n",
    "# no estamos codificando datos sino que asignamos el valor directamente.\n",
    "(\n",
    "    so.Plot(data = flights, x = \"year\", y = \"passengers\")\n",
    "    .add(so.Line(), color = \"month\")\n",
    "    .add(so.Dot(color = \"red\"))\n",
    ")\n"
   ]
  },
  {
   "cell_type": "markdown",
   "id": "a276cc3c-284b-46fb-ba88-291dcb43680c",
   "metadata": {},
   "source": [
    "**Ejercicio** ¿Que pasa si hacemos `.add(so.Dot(color = \"month\"))`?\n",
    "\n",
    "¿Y si hacemos `so.Plot(data = flights, x = \"year\", y = \"passengers\", color = \"red\")`?"
   ]
  },
  {
   "cell_type": "code",
   "execution_count": null,
   "id": "9075a049-d135-40fd-a811-b9689c3a31a1",
   "metadata": {},
   "outputs": [],
   "source": []
  },
  {
   "cell_type": "markdown",
   "id": "c52fe647-9c4f-40e8-8696-e14086548bb3",
   "metadata": {},
   "source": [
    "## Gráficos de barras"
   ]
  },
  {
   "cell_type": "code",
   "execution_count": null,
   "id": "72bf5e4e-20d1-4258-99c7-772494a2ad00",
   "metadata": {},
   "outputs": [],
   "source": [
    "# Qué hace la marca \"barras\" (Bars)? \n",
    "tips = sns.load_dataset(\"tips\")\n",
    "(\n",
    "    so.Plot(tips, \"total_bill\", \"tip\")\n",
    "    .add(so.Bar())\n",
    ")"
   ]
  },
  {
   "cell_type": "code",
   "execution_count": null,
   "id": "19dc931d-2ae0-4811-b9e2-82de1c248aa4",
   "metadata": {},
   "outputs": [],
   "source": [
    "# En el anterior caso no es una buena visualización.\n",
    "# Probamos un ejemplo más sencillo"
   ]
  },
  {
   "cell_type": "code",
   "execution_count": null,
   "id": "aa5e31dd-3aa9-4135-8a4e-eb81b858579a",
   "metadata": {},
   "outputs": [],
   "source": [
    "personas = pd.DataFrame({'nombre':['Marcos', 'Sofia', 'Andrés'], 'altura':[192, 168,165]})\n",
    "(\n",
    "    so.Plot(personas, \"nombre\", \"altura\")\n",
    "    .add(so.Bar())\n",
    ")"
   ]
  },
  {
   "cell_type": "code",
   "execution_count": null,
   "id": "197ca366-97d7-4001-94de-a17271c584be",
   "metadata": {},
   "outputs": [],
   "source": [
    "# La variable x puede también corresponder a valores numéricos discretos.\n",
    "# Graficamos la cantidad total de vuelos por año.\n",
    "(\n",
    "    so.Plot(data = flights, x = \"year\", y = \"passengers\")\n",
    "    .add(so.Bar(), so.Agg(\"sum\"))\n",
    ")"
   ]
  },
  {
   "cell_type": "markdown",
   "id": "7c1e9102-b9a9-48c5-bb28-42689fd00c17",
   "metadata": {},
   "source": [
    "## Histogramas\n",
    "El último gráfico de barras podemos pensarlo como un histograma, vemos la cantidad de pasajero en función del año.\n",
    "En ese caso las cantidades por mes ya estaban calculadas y solo las sumamos.\n",
    "\n",
    "Cuando tenemos todos los datos individuales, podemos agregarlos para hacer un gráfico de barras usando el método `hist`."
   ]
  },
  {
   "cell_type": "code",
   "execution_count": null,
   "id": "4c49b935-4321-4130-b127-f0acc7cebed8",
   "metadata": {},
   "outputs": [],
   "source": [
    "penguins = sns.load_dataset(\"penguins\")\n",
    "penguins.head()"
   ]
  },
  {
   "cell_type": "markdown",
   "id": "1ab1d024-4cde-4fa7-979e-62d7ed284d9a",
   "metadata": {},
   "source": [
    "#### Histograma de una variable categórica"
   ]
  },
  {
   "cell_type": "markdown",
   "id": "628139fe-98f1-4f00-95bd-2d2efa28d389",
   "metadata": {},
   "source": [
    "Tenemos una base de datos con información de píngüinos y queremos saber cuántos pingüinos hay en cada isla."
   ]
  },
  {
   "cell_type": "code",
   "execution_count": null,
   "id": "88aa4ade-41a1-4dc4-a92f-4b1122d9288c",
   "metadata": {},
   "outputs": [],
   "source": [
    "# Podemos contarlos primero usando funciones de Pandas...\n",
    "#pinguinos_por_isla = ???  ## EJERCICIO\n",
    "#display(pinguinos_por_isla)\n",
    "\n",
    "# Lo hacemos a mano para no resolver el ejercicio.\n",
    "islas = ['Biscoe', 'Dream', 'Torgersen']\n",
    "poblacion = [168, 124, 52]\n",
    "pinguinos_por_isla = pd.Series(poblacion, index=islas)\n",
    "display(pinguinos_por_isla)"
   ]
  },
  {
   "cell_type": "code",
   "execution_count": null,
   "id": "b12b452e-cd08-44a5-a050-c22e26c0b4dc",
   "metadata": {},
   "outputs": [],
   "source": [
    "# Esto no funciona, no podemos usar una series de Pandas como data\n",
    "pinguinos_por_isla.name = \"poblacion\"\n",
    "pinguinos_por_isla.index.name = \"isla\"\n",
    "display(pinguinos_por_isla)\n",
    "(\n",
    "    so.Plot(data = pinguinos_por_isla, x = \"isla\", y = \"poblacion\")\n",
    "    .add(so.Bar())\n",
    ")"
   ]
  },
  {
   "cell_type": "markdown",
   "id": "f0caac43-6e5a-40a5-a09a-80bf05435405",
   "metadata": {},
   "source": [
    "**Pregunta:** ¿Podemos usar so.Plot() sin un DataFrame?\n",
    "\n",
    "Sí, no necesariamente tenemos que indicar data, x e y al definir el Plot().\n",
    "\n",
    "Podemos usar series de Pandas o arrays para x e y."
   ]
  },
  {
   "cell_type": "code",
   "execution_count": null,
   "id": "05c33cb5-bb30-490a-901c-5ccedab53102",
   "metadata": {},
   "outputs": [],
   "source": [
    "# Pero podemos indicar series para x e y, y no especificar ninguna DataFrame\n",
    "(\n",
    "    so.Plot(x = pinguinos_por_isla.index, y = pinguinos_por_isla)\n",
    "    .add(so.Bar())\n",
    ")"
   ]
  },
  {
   "cell_type": "markdown",
   "id": "3c58117f-1d95-4951-90c9-428905baf6d2",
   "metadata": {},
   "source": [
    "**Comentario:** también podemos utilizar variables distintas para distintas marcas."
   ]
  },
  {
   "cell_type": "code",
   "execution_count": null,
   "id": "1d484585-6d50-4015-afae-bcbff3cd5de6",
   "metadata": {},
   "outputs": [],
   "source": [
    "# Ejemplo (fuera del tema de histogramas!)\n",
    "\n",
    "# Si queremos cantidad promedio de vuelos con vuelos en enero...\n",
    "from gapminder import gapminder\n",
    "pasajerosEnero = flights[flights[\"month\"] == \"Jan\"][\"passengers\"]\n",
    "(\n",
    "    so.Plot(data = flights, x = \"year\")\n",
    "    .add(so.Line(), ???) # Promedio anual de pasajeros por mes\n",
    "    .add(so.Line(color = \"red\"), ???) # Pasajeros en enero\n",
    ")"
   ]
  },
  {
   "cell_type": "markdown",
   "id": "34a725b0-f281-46bc-a2d1-7ebe227fc5d6",
   "metadata": {},
   "source": [
    "Ahora usamos las funciones de so.Plot() para agregar los datos y realizar el histograma.\n",
    "\n",
    "No necesitamos nosotros contar \"a mano\" cuántos pingüinos hay en cada isla."
   ]
  },
  {
   "cell_type": "code",
   "execution_count": null,
   "id": "a2314cf0-2dc7-442f-9166-e919d0f15f77",
   "metadata": {},
   "outputs": [],
   "source": [
    "# Hay que asignar una variable y?\n",
    "(\n",
    "#    so.Plot(data = penguins, x = \"island\", y = ???)\n",
    "#    .add(so.Bar(), so.Hist())\n",
    ")"
   ]
  },
  {
   "cell_type": "markdown",
   "id": "061d2461-e855-4ca9-bb59-51494c8a50c4",
   "metadata": {},
   "source": [
    "#### Histograma de una variable numérica"
   ]
  },
  {
   "cell_type": "markdown",
   "id": "3bd747ec",
   "metadata": {},
   "source": [
    "### Ejercicio\n",
    "Realizar en el cuaderno un histograma de cuatro barras para los siguientes datos:\n",
    "$$\n",
    "edades = \\{20,28,18,10,50,55,70,75,80,76,82\\}\n",
    "$$\n",
    "\n",
    "Verificar el gráfico en Python.\n"
   ]
  },
  {
   "cell_type": "code",
   "execution_count": null,
   "id": "65a8e235",
   "metadata": {},
   "outputs": [],
   "source": [
    "edades = pd.Series([20,28,18,10,50,55,70,75,80,76,82])\n",
    "(\n",
    "    so.Plot(x = edades)\n",
    "    .add(so.Bar(), so.Hist(bins = 4))\n",
    ")"
   ]
  },
  {
   "cell_type": "markdown",
   "id": "822bc4e1-6253-426a-b814-801b1de40c30",
   "metadata": {},
   "source": [
    "### Pingüinos\n",
    "\n",
    "Los histogramas nos sirven para analizar la distribución de valores observados de una variable."
   ]
  },
  {
   "cell_type": "code",
   "execution_count": null,
   "id": "b3f63465-31df-476c-89d7-8c795b2134f4",
   "metadata": {},
   "outputs": [],
   "source": [
    "# Queremos ver cuántos pingüinos hay en distintos rangos de peso.\n",
    "(\n",
    "    so.Plot(data = penguins, x = \"body_mass_g\")\n",
    "    .add(so.Bar(), so.Hist())\n",
    ")"
   ]
  },
  {
   "cell_type": "code",
   "execution_count": null,
   "id": "290d209c-94ee-472d-b7ce-a1a9e8d04837",
   "metadata": {},
   "outputs": [],
   "source": [
    "# Para histogramas de una variable continua es más común que no haya tanto espacio entre las barras.\n",
    "# Para eso usamos Bars en lugar de Bar\n",
    "\n",
    "(\n",
    "    so.Plot(data = penguins, x = \"body_mass_g\")\n",
    "    .add(so.Bars(), so.Hist())\n",
    ")"
   ]
  },
  {
   "cell_type": "code",
   "execution_count": null,
   "id": "19b5ab20-4da4-4fee-84b7-7b5811be4c32",
   "metadata": {},
   "outputs": [],
   "source": [
    "# Podemos cambiar la cantidad de intervalos\n",
    "(\n",
    "    so.Plot(data = penguins, x = \"body_mass_g\")\n",
    "    .add(so.Bars(), so.Hist(bins = 4))\n",
    ")"
   ]
  },
  {
   "cell_type": "markdown",
   "id": "df0f40e2-248d-4115-8121-5cf67620ff82",
   "metadata": {},
   "source": [
    "## Box plot"
   ]
  },
  {
   "cell_type": "markdown",
   "id": "a0c2ab6f",
   "metadata": {},
   "source": [
    "### Ejercicio\n",
    "Realizar en el cuaderno un grafico boxplot para los siguientes datos:\n",
    "$$\n",
    "respuestas = \\{10, 15, 20, 24, 30, 50, 54, 60, 62, 70, 100, 105\\}\n",
    "$$\n",
    "\n",
    "Verificar el gráfico en Python."
   ]
  },
  {
   "cell_type": "markdown",
   "id": "ab1ffa7e",
   "metadata": {},
   "source": [
    "En Seaborn objects no tenemos la opción de realizar box plots. Podemos hacerlos utilizando `seaborn.boxplot()`. Los parámetros a pasar son similares.\n"
   ]
  },
  {
   "cell_type": "code",
   "execution_count": null,
   "id": "85d0fd14",
   "metadata": {},
   "outputs": [],
   "source": [
    "respuestas = pd.Series([10, 15, 20, 24, 30, 50, 54, 60, 62, 70, 100, 105])\n",
    "\n",
    "display(datos.quantile(.25))  # Primer cuantil\n",
    "display(datos.quantile(.50))   # Segundo cuantil\n",
    "display(datos.quantile(.75))  # Tercer cuantil\n",
    "\n",
    "#sns.boxplot(???)\n"
   ]
  },
  {
   "cell_type": "markdown",
   "id": "03d8a44d",
   "metadata": {},
   "source": [
    "### Ejercicio.\n",
    "A partir de qué valor la última respuesta (105) pasaría a ser outlier en el gráfico?\n",
    "\n",
    "Verificarlo en Python."
   ]
  },
  {
   "cell_type": "code",
   "execution_count": null,
   "id": "a006fb0b",
   "metadata": {},
   "outputs": [],
   "source": [
    "respuestas = pd.Series([10, 15, 20, 24, 30, 50, 54, 60, 62, 70, 100, 105])\n",
    "sns.boxplot(respuestas, orient = \"h\")\n"
   ]
  },
  {
   "cell_type": "code",
   "execution_count": null,
   "id": "6db4bea5-d04d-4870-bdfd-2b07239acf20",
   "metadata": {},
   "outputs": [],
   "source": [
    "# Los mismos datos del histograma anterior del peso de los pingüinos, \n",
    "# podemos representarlos en un BoxPlot\n",
    "fig, ax =plt.subplots(1,2)\n",
    "fig.set_figwidth(12)\n",
    "(\n",
    "    so.Plot(data = penguins, x = \"body_mass_g\")\n",
    "    .add(so.Bars(), so.Hist())\n",
    "    .on(ax[0]).plot()\n",
    ")\n",
    "sns.boxplot(penguins, x=\"body_mass_g\", ax = ax[1])\n",
    "plt.show()\n",
    "\n"
   ]
  },
  {
   "cell_type": "code",
   "execution_count": null,
   "id": "af1301d8-e3b1-4459-97e8-b0952eb01554",
   "metadata": {},
   "outputs": [],
   "source": [
    "# Si queremos comparar distintos grupos de datos, podemos hacer boxplots para cada grupo\n",
    "# Los mismos datos del histograma anterior, los representamos en un BoxPlot\n",
    "sns.boxplot(data = penguins, x=\"species\", y = \"body_mass_g\", hue = \"species\")\n",
    "plt.show()"
   ]
  },
  {
   "cell_type": "markdown",
   "id": "e47d20a9-8776-407a-a5cf-70e1cc8e7baf",
   "metadata": {},
   "source": [
    "**Ejercicio.** ¿Qué conclusiones podemos sacar en base a este gráfico?"
   ]
  },
  {
   "cell_type": "markdown",
   "id": "5a44f08a-a004-47f2-a26d-e5b05d2538cc",
   "metadata": {},
   "source": [
    "### Cantidad de pasajeros por año"
   ]
  },
  {
   "cell_type": "code",
   "execution_count": null,
   "id": "c9c0e9d3-8e19-42bc-8968-9a2a5e6c8c99",
   "metadata": {},
   "outputs": [],
   "source": [
    "# También podemos representar la información de vuelos por mes utilizando boxplots.\n",
    "#sns.boxplot(data = flights, ???)"
   ]
  },
  {
   "cell_type": "code",
   "execution_count": null,
   "id": "fbada338",
   "metadata": {},
   "outputs": [],
   "source": []
  }
 ],
 "metadata": {
  "kernelspec": {
   "display_name": "Python 3 (ipykernel)",
   "language": "python",
   "name": "python3"
  },
  "language_info": {
   "codemirror_mode": {
    "name": "ipython",
    "version": 3
   },
   "file_extension": ".py",
   "mimetype": "text/x-python",
   "name": "python",
   "nbconvert_exporter": "python",
   "pygments_lexer": "ipython3",
   "version": "3.11.7"
  }
 },
 "nbformat": 4,
 "nbformat_minor": 5
}
