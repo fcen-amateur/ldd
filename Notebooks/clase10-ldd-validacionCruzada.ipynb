{
 "cells": [
  {
   "cell_type": "code",
   "execution_count": 363,
   "id": "ab0d4b23-8a44-46ac-ba0c-10d33955c1d9",
   "metadata": {},
   "outputs": [],
   "source": [
    "import scipy\n",
    "import numpy as np\n",
    "import pandas as pd\n",
    "import seaborn as sns\n",
    "import seaborn.objects as so\n",
    "\n",
    "from sklearn import linear_model    # Herramientas de modelos lineales\n",
    "from sklearn.metrics import mean_squared_error, r2_score    # Medidas de desempeño\n",
    "from sklearn.preprocessing import PolynomialFeatures    # Herramientas de polinomios\n",
    "\n",
    "from sklearn.model_selection import train_test_split, KFold, cross_val_score\n",
    "\n",
    "from formulaic import Formula"
   ]
  },
  {
   "cell_type": "code",
   "execution_count": 364,
   "id": "a860ad52-6e0b-407c-a279-358e06dd4e79",
   "metadata": {},
   "outputs": [],
   "source": [
    "# Si necesitan instalar algún paquete\n",
    "#!pip install gapminder\n",
    "#!pip install formulaic"
   ]
  },
  {
   "cell_type": "code",
   "execution_count": 365,
   "id": "b2022f21",
   "metadata": {},
   "outputs": [],
   "source": [
    "# Si necesitan cambiar de directorio de trabajo\n",
    "#import os\n",
    "#print(pwd)\n",
    "#os.chdir('./notebooks')"
   ]
  },
  {
   "cell_type": "markdown",
   "id": "6b965805",
   "metadata": {},
   "source": [
    "Retomamos la última parte del notebook de la clase anterior\n",
    "\n",
    "# Interacciones entre variables y la paradoja de Simpson."
   ]
  },
  {
   "cell_type": "markdown",
   "id": "8d0defec",
   "metadata": {},
   "source": [
    "Queremos estudiar la relación entre la longitud y la profundidad del pico de los pingüinos."
   ]
  },
  {
   "cell_type": "code",
   "execution_count": 366,
   "id": "828a9c3b",
   "metadata": {},
   "outputs": [
    {
     "data": {
      "text/html": [
       "<div>\n",
       "<style scoped>\n",
       "    .dataframe tbody tr th:only-of-type {\n",
       "        vertical-align: middle;\n",
       "    }\n",
       "\n",
       "    .dataframe tbody tr th {\n",
       "        vertical-align: top;\n",
       "    }\n",
       "\n",
       "    .dataframe thead th {\n",
       "        text-align: right;\n",
       "    }\n",
       "</style>\n",
       "<table border=\"1\" class=\"dataframe\">\n",
       "  <thead>\n",
       "    <tr style=\"text-align: right;\">\n",
       "      <th></th>\n",
       "      <th>species</th>\n",
       "      <th>island</th>\n",
       "      <th>bill_length_mm</th>\n",
       "      <th>bill_depth_mm</th>\n",
       "      <th>flipper_length_mm</th>\n",
       "      <th>body_mass_g</th>\n",
       "      <th>sex</th>\n",
       "    </tr>\n",
       "  </thead>\n",
       "  <tbody>\n",
       "    <tr>\n",
       "      <th>0</th>\n",
       "      <td>Adelie</td>\n",
       "      <td>Torgersen</td>\n",
       "      <td>39.1</td>\n",
       "      <td>18.7</td>\n",
       "      <td>181.0</td>\n",
       "      <td>3750.0</td>\n",
       "      <td>Male</td>\n",
       "    </tr>\n",
       "    <tr>\n",
       "      <th>1</th>\n",
       "      <td>Adelie</td>\n",
       "      <td>Torgersen</td>\n",
       "      <td>39.5</td>\n",
       "      <td>17.4</td>\n",
       "      <td>186.0</td>\n",
       "      <td>3800.0</td>\n",
       "      <td>Female</td>\n",
       "    </tr>\n",
       "    <tr>\n",
       "      <th>2</th>\n",
       "      <td>Adelie</td>\n",
       "      <td>Torgersen</td>\n",
       "      <td>40.3</td>\n",
       "      <td>18.0</td>\n",
       "      <td>195.0</td>\n",
       "      <td>3250.0</td>\n",
       "      <td>Female</td>\n",
       "    </tr>\n",
       "    <tr>\n",
       "      <th>3</th>\n",
       "      <td>Adelie</td>\n",
       "      <td>Torgersen</td>\n",
       "      <td>NaN</td>\n",
       "      <td>NaN</td>\n",
       "      <td>NaN</td>\n",
       "      <td>NaN</td>\n",
       "      <td>NaN</td>\n",
       "    </tr>\n",
       "    <tr>\n",
       "      <th>4</th>\n",
       "      <td>Adelie</td>\n",
       "      <td>Torgersen</td>\n",
       "      <td>36.7</td>\n",
       "      <td>19.3</td>\n",
       "      <td>193.0</td>\n",
       "      <td>3450.0</td>\n",
       "      <td>Female</td>\n",
       "    </tr>\n",
       "  </tbody>\n",
       "</table>\n",
       "</div>"
      ],
      "text/plain": [
       "  species     island  bill_length_mm  bill_depth_mm  flipper_length_mm  \\\n",
       "0  Adelie  Torgersen            39.1           18.7              181.0   \n",
       "1  Adelie  Torgersen            39.5           17.4              186.0   \n",
       "2  Adelie  Torgersen            40.3           18.0              195.0   \n",
       "3  Adelie  Torgersen             NaN            NaN                NaN   \n",
       "4  Adelie  Torgersen            36.7           19.3              193.0   \n",
       "\n",
       "   body_mass_g     sex  \n",
       "0       3750.0    Male  \n",
       "1       3800.0  Female  \n",
       "2       3250.0  Female  \n",
       "3          NaN     NaN  \n",
       "4       3450.0  Female  "
      ]
     },
     "execution_count": 366,
     "metadata": {},
     "output_type": "execute_result"
    }
   ],
   "source": [
    "penguins = sns.load_dataset(\"penguins\")  # Eliminamos las filas con datos faltantes\n",
    "penguins.head()"
   ]
  },
  {
   "cell_type": "code",
   "execution_count": 368,
   "id": "4d775e2d",
   "metadata": {},
   "outputs": [
    {
     "data": {
      "text/html": [
       "<div>\n",
       "<style scoped>\n",
       "    .dataframe tbody tr th:only-of-type {\n",
       "        vertical-align: middle;\n",
       "    }\n",
       "\n",
       "    .dataframe tbody tr th {\n",
       "        vertical-align: top;\n",
       "    }\n",
       "\n",
       "    .dataframe thead th {\n",
       "        text-align: right;\n",
       "    }\n",
       "</style>\n",
       "<table border=\"1\" class=\"dataframe\">\n",
       "  <thead>\n",
       "    <tr style=\"text-align: right;\">\n",
       "      <th></th>\n",
       "      <th>species</th>\n",
       "      <th>island</th>\n",
       "      <th>bill_length_mm</th>\n",
       "      <th>bill_depth_mm</th>\n",
       "      <th>flipper_length_mm</th>\n",
       "      <th>body_mass_g</th>\n",
       "      <th>sex</th>\n",
       "    </tr>\n",
       "  </thead>\n",
       "  <tbody>\n",
       "    <tr>\n",
       "      <th>0</th>\n",
       "      <td>Adelie</td>\n",
       "      <td>Torgersen</td>\n",
       "      <td>39.1</td>\n",
       "      <td>18.7</td>\n",
       "      <td>181.0</td>\n",
       "      <td>3750.0</td>\n",
       "      <td>Male</td>\n",
       "    </tr>\n",
       "    <tr>\n",
       "      <th>1</th>\n",
       "      <td>Adelie</td>\n",
       "      <td>Torgersen</td>\n",
       "      <td>39.5</td>\n",
       "      <td>17.4</td>\n",
       "      <td>186.0</td>\n",
       "      <td>3800.0</td>\n",
       "      <td>Female</td>\n",
       "    </tr>\n",
       "    <tr>\n",
       "      <th>2</th>\n",
       "      <td>Adelie</td>\n",
       "      <td>Torgersen</td>\n",
       "      <td>40.3</td>\n",
       "      <td>18.0</td>\n",
       "      <td>195.0</td>\n",
       "      <td>3250.0</td>\n",
       "      <td>Female</td>\n",
       "    </tr>\n",
       "    <tr>\n",
       "      <th>4</th>\n",
       "      <td>Adelie</td>\n",
       "      <td>Torgersen</td>\n",
       "      <td>36.7</td>\n",
       "      <td>19.3</td>\n",
       "      <td>193.0</td>\n",
       "      <td>3450.0</td>\n",
       "      <td>Female</td>\n",
       "    </tr>\n",
       "    <tr>\n",
       "      <th>5</th>\n",
       "      <td>Adelie</td>\n",
       "      <td>Torgersen</td>\n",
       "      <td>39.3</td>\n",
       "      <td>20.6</td>\n",
       "      <td>190.0</td>\n",
       "      <td>3650.0</td>\n",
       "      <td>Male</td>\n",
       "    </tr>\n",
       "  </tbody>\n",
       "</table>\n",
       "</div>"
      ],
      "text/plain": [
       "  species     island  bill_length_mm  bill_depth_mm  flipper_length_mm  \\\n",
       "0  Adelie  Torgersen            39.1           18.7              181.0   \n",
       "1  Adelie  Torgersen            39.5           17.4              186.0   \n",
       "2  Adelie  Torgersen            40.3           18.0              195.0   \n",
       "4  Adelie  Torgersen            36.7           19.3              193.0   \n",
       "5  Adelie  Torgersen            39.3           20.6              190.0   \n",
       "\n",
       "   body_mass_g     sex  \n",
       "0       3750.0    Male  \n",
       "1       3800.0  Female  \n",
       "2       3250.0  Female  \n",
       "4       3450.0  Female  \n",
       "5       3650.0    Male  "
      ]
     },
     "execution_count": 368,
     "metadata": {},
     "output_type": "execute_result"
    }
   ],
   "source": [
    "# Vemos que hay datos faltanes.\n",
    "# Eliminamos las filas con datos faltantes\n",
    "penguins = penguins.dropna()  \n",
    "penguins.head()"
   ]
  },
  {
   "cell_type": "code",
   "execution_count": 369,
   "id": "82823219",
   "metadata": {},
   "outputs": [
    {
     "ename": "FormulaSyntaxError",
     "evalue": "Unknown operator '?'.\n\n⧛\u001b[1;31m???\u001b[0m⧚",
     "output_type": "error",
     "traceback": [
      "\u001b[1;31m---------------------------------------------------------------------------\u001b[0m",
      "\u001b[1;31mFormulaSyntaxError\u001b[0m                        Traceback (most recent call last)",
      "Cell \u001b[1;32mIn[369], line 3\u001b[0m\n\u001b[0;32m      1\u001b[0m \u001b[38;5;66;03m# Ajustamos un modelo lineal y calculamos el coeficiente de correlación R^2\u001b[39;00m\n\u001b[0;32m      2\u001b[0m y, X \u001b[38;5;241m=\u001b[39m (\n\u001b[1;32m----> 3\u001b[0m     Formula(\u001b[38;5;124m'\u001b[39m\u001b[38;5;124m???\u001b[39m\u001b[38;5;124m'\u001b[39m)\n\u001b[0;32m      4\u001b[0m     \u001b[38;5;241m.\u001b[39mget_model_matrix(penguins)\n\u001b[0;32m      5\u001b[0m )\n\u001b[0;32m      6\u001b[0m display(X\u001b[38;5;241m.\u001b[39mhead())\n",
      "File \u001b[1;32m~\\anaconda3\\Lib\\site-packages\\formulaic\\formula.py:132\u001b[0m, in \u001b[0;36mFormula.__init__\u001b[1;34m(self, _parser, _nested_parser, _ordering, *args, **kwargs)\u001b[0m\n\u001b[0;32m    130\u001b[0m \u001b[38;5;28mself\u001b[39m\u001b[38;5;241m.\u001b[39m_nested_parser \u001b[38;5;241m=\u001b[39m _nested_parser \u001b[38;5;129;01mor\u001b[39;00m _parser \u001b[38;5;129;01mor\u001b[39;00m \u001b[38;5;28mself\u001b[39m\u001b[38;5;241m.\u001b[39mDEFAULT_NESTED_PARSER\n\u001b[0;32m    131\u001b[0m \u001b[38;5;28mself\u001b[39m\u001b[38;5;241m.\u001b[39m_ordering \u001b[38;5;241m=\u001b[39m OrderingMethod(_ordering)\n\u001b[1;32m--> 132\u001b[0m \u001b[38;5;28msuper\u001b[39m()\u001b[38;5;241m.\u001b[39m\u001b[38;5;21m__init__\u001b[39m(\u001b[38;5;241m*\u001b[39margs, \u001b[38;5;241m*\u001b[39m\u001b[38;5;241m*\u001b[39mkwargs)\n\u001b[0;32m    133\u001b[0m \u001b[38;5;28mself\u001b[39m\u001b[38;5;241m.\u001b[39m_simplify(unwrap\u001b[38;5;241m=\u001b[39m\u001b[38;5;28;01mFalse\u001b[39;00m, inplace\u001b[38;5;241m=\u001b[39m\u001b[38;5;28;01mTrue\u001b[39;00m)\n",
      "File \u001b[1;32m~\\anaconda3\\Lib\\site-packages\\formulaic\\parser\\types\\structured.py:101\u001b[0m, in \u001b[0;36mStructured.__init__\u001b[1;34m(self, root, _metadata, **structure)\u001b[0m\n\u001b[0;32m     96\u001b[0m     \u001b[38;5;28;01mraise\u001b[39;00m \u001b[38;5;167;01mValueError\u001b[39;00m(\n\u001b[0;32m     97\u001b[0m         \u001b[38;5;124m\"\u001b[39m\u001b[38;5;124mSubstructure keys cannot start with an underscore. \u001b[39m\u001b[38;5;124m\"\u001b[39m\n\u001b[0;32m     98\u001b[0m         \u001b[38;5;124mf\u001b[39m\u001b[38;5;124m\"\u001b[39m\u001b[38;5;124mThe invalid keys are: \u001b[39m\u001b[38;5;132;01m{\u001b[39;00m\u001b[38;5;28mset\u001b[39m(key\u001b[38;5;250m \u001b[39m\u001b[38;5;28;01mfor\u001b[39;00m\u001b[38;5;250m \u001b[39mkey\u001b[38;5;250m \u001b[39m\u001b[38;5;129;01min\u001b[39;00m\u001b[38;5;250m \u001b[39mstructure\u001b[38;5;250m \u001b[39m\u001b[38;5;28;01mif\u001b[39;00m\u001b[38;5;250m \u001b[39mkey\u001b[38;5;241m.\u001b[39mstartswith(\u001b[38;5;124m'\u001b[39m\u001b[38;5;124m_\u001b[39m\u001b[38;5;124m'\u001b[39m))\u001b[38;5;132;01m}\u001b[39;00m\u001b[38;5;124m.\u001b[39m\u001b[38;5;124m\"\u001b[39m\n\u001b[0;32m     99\u001b[0m     )\n\u001b[0;32m    100\u001b[0m \u001b[38;5;28;01mif\u001b[39;00m root \u001b[38;5;129;01mis\u001b[39;00m \u001b[38;5;129;01mnot\u001b[39;00m _MISSING:\n\u001b[1;32m--> 101\u001b[0m     structure[\u001b[38;5;124m\"\u001b[39m\u001b[38;5;124mroot\u001b[39m\u001b[38;5;124m\"\u001b[39m] \u001b[38;5;241m=\u001b[39m \u001b[38;5;28mself\u001b[39m\u001b[38;5;241m.\u001b[39m__prepare_item(\u001b[38;5;124m\"\u001b[39m\u001b[38;5;124mroot\u001b[39m\u001b[38;5;124m\"\u001b[39m, root)\n\u001b[0;32m    102\u001b[0m \u001b[38;5;28mself\u001b[39m\u001b[38;5;241m.\u001b[39m_metadata \u001b[38;5;241m=\u001b[39m _metadata\n\u001b[0;32m    104\u001b[0m \u001b[38;5;28mself\u001b[39m\u001b[38;5;241m.\u001b[39m_structure \u001b[38;5;241m=\u001b[39m {\n\u001b[0;32m    105\u001b[0m     key: \u001b[38;5;28mself\u001b[39m\u001b[38;5;241m.\u001b[39m__prepare_item(key, item) \u001b[38;5;28;01mfor\u001b[39;00m key, item \u001b[38;5;129;01min\u001b[39;00m structure\u001b[38;5;241m.\u001b[39mitems()\n\u001b[0;32m    106\u001b[0m }\n",
      "File \u001b[1;32m~\\anaconda3\\Lib\\site-packages\\formulaic\\parser\\types\\structured.py:115\u001b[0m, in \u001b[0;36mStructured.__prepare_item\u001b[1;34m(self, key, item)\u001b[0m\n\u001b[0;32m    113\u001b[0m \u001b[38;5;28;01mif\u001b[39;00m \u001b[38;5;28misinstance\u001b[39m(item, \u001b[38;5;28mtuple\u001b[39m):\n\u001b[0;32m    114\u001b[0m     \u001b[38;5;28;01mreturn\u001b[39;00m \u001b[38;5;28mtuple\u001b[39m(\u001b[38;5;28mself\u001b[39m\u001b[38;5;241m.\u001b[39m__prepare_item(key, v) \u001b[38;5;28;01mfor\u001b[39;00m v \u001b[38;5;129;01min\u001b[39;00m item)\n\u001b[1;32m--> 115\u001b[0m \u001b[38;5;28;01mreturn\u001b[39;00m \u001b[38;5;28mself\u001b[39m\u001b[38;5;241m.\u001b[39m_prepare_item(key, item)\n",
      "File \u001b[1;32m~\\anaconda3\\Lib\\site-packages\\formulaic\\formula.py:152\u001b[0m, in \u001b[0;36mFormula._prepare_item\u001b[1;34m(self, key, item)\u001b[0m\n\u001b[0;32m    136\u001b[0m \u001b[38;5;250m\u001b[39m\u001b[38;5;124;03m\"\"\"\u001b[39;00m\n\u001b[0;32m    137\u001b[0m \u001b[38;5;124;03mConvert incoming formula items into either a list of Terms or a nested\u001b[39;00m\n\u001b[0;32m    138\u001b[0m \u001b[38;5;124;03m`Formula` instance.\u001b[39;00m\n\u001b[1;32m   (...)\u001b[0m\n\u001b[0;32m    145\u001b[0m \u001b[38;5;124;03m    item: The specification to convert.\u001b[39;00m\n\u001b[0;32m    146\u001b[0m \u001b[38;5;124;03m\"\"\"\u001b[39;00m\n\u001b[0;32m    148\u001b[0m \u001b[38;5;28;01mif\u001b[39;00m \u001b[38;5;28misinstance\u001b[39m(item, \u001b[38;5;28mstr\u001b[39m):\n\u001b[0;32m    149\u001b[0m     item \u001b[38;5;241m=\u001b[39m cast(\n\u001b[0;32m    150\u001b[0m         FormulaSpec,\n\u001b[0;32m    151\u001b[0m         (\u001b[38;5;28mself\u001b[39m\u001b[38;5;241m.\u001b[39m_parser \u001b[38;5;28;01mif\u001b[39;00m key \u001b[38;5;241m==\u001b[39m \u001b[38;5;124m\"\u001b[39m\u001b[38;5;124mroot\u001b[39m\u001b[38;5;124m\"\u001b[39m \u001b[38;5;28;01melse\u001b[39;00m \u001b[38;5;28mself\u001b[39m\u001b[38;5;241m.\u001b[39m_nested_parser)\n\u001b[1;32m--> 152\u001b[0m         \u001b[38;5;241m.\u001b[39mget_terms(item)\n\u001b[0;32m    153\u001b[0m         \u001b[38;5;241m.\u001b[39m_simplify(),\n\u001b[0;32m    154\u001b[0m     )\n\u001b[0;32m    156\u001b[0m \u001b[38;5;28;01mif\u001b[39;00m \u001b[38;5;28misinstance\u001b[39m(item, Structured):\n\u001b[0;32m    157\u001b[0m     formula_or_terms \u001b[38;5;241m=\u001b[39m Formula(\n\u001b[0;32m    158\u001b[0m         _parser\u001b[38;5;241m=\u001b[39m\u001b[38;5;28mself\u001b[39m\u001b[38;5;241m.\u001b[39m_nested_parser, \u001b[38;5;241m*\u001b[39m\u001b[38;5;241m*\u001b[39mitem\u001b[38;5;241m.\u001b[39m_structure\n\u001b[0;32m    159\u001b[0m     )\u001b[38;5;241m.\u001b[39m_simplify()\n",
      "File \u001b[1;32m~\\anaconda3\\Lib\\site-packages\\formulaic\\parser\\parser.py:132\u001b[0m, in \u001b[0;36mDefaultFormulaParser.get_terms\u001b[1;34m(self, formula)\u001b[0m\n\u001b[0;32m    119\u001b[0m \u001b[38;5;28;01mdef\u001b[39;00m \u001b[38;5;21mget_terms\u001b[39m(\u001b[38;5;28mself\u001b[39m, formula: \u001b[38;5;28mstr\u001b[39m) \u001b[38;5;241m-\u001b[39m\u001b[38;5;241m>\u001b[39m Structured[List[Term]]:\n\u001b[0;32m    120\u001b[0m \u001b[38;5;250m    \u001b[39m\u001b[38;5;124;03m\"\"\"\u001b[39;00m\n\u001b[0;32m    121\u001b[0m \u001b[38;5;124;03m    Assemble the `Term` instances for a formula string. Depending on the\u001b[39;00m\n\u001b[0;32m    122\u001b[0m \u001b[38;5;124;03m    operators involved, this may be an iterable of `Term` instances, or\u001b[39;00m\n\u001b[1;32m   (...)\u001b[0m\n\u001b[0;32m    130\u001b[0m \u001b[38;5;124;03m        formula: The formula for which an AST should be generated.\u001b[39;00m\n\u001b[0;32m    131\u001b[0m \u001b[38;5;124;03m    \"\"\"\u001b[39;00m\n\u001b[1;32m--> 132\u001b[0m     terms \u001b[38;5;241m=\u001b[39m \u001b[38;5;28msuper\u001b[39m()\u001b[38;5;241m.\u001b[39mget_terms(formula)\n\u001b[0;32m    134\u001b[0m     \u001b[38;5;28;01mdef\u001b[39;00m \u001b[38;5;21mcheck_terms\u001b[39m(terms: Iterable[Term]) \u001b[38;5;241m-\u001b[39m\u001b[38;5;241m>\u001b[39m \u001b[38;5;28;01mNone\u001b[39;00m:\n\u001b[0;32m    135\u001b[0m         seen_terms \u001b[38;5;241m=\u001b[39m \u001b[38;5;28mset\u001b[39m()\n",
      "File \u001b[1;32m~\\anaconda3\\Lib\\site-packages\\formulaic\\parser\\types\\formula_parser.py:72\u001b[0m, in \u001b[0;36mFormulaParser.get_terms\u001b[1;34m(self, formula)\u001b[0m\n\u001b[0;32m     63\u001b[0m \u001b[38;5;28;01mdef\u001b[39;00m \u001b[38;5;21mget_terms\u001b[39m(\u001b[38;5;28mself\u001b[39m, formula: \u001b[38;5;28mstr\u001b[39m) \u001b[38;5;241m-\u001b[39m\u001b[38;5;241m>\u001b[39m Structured[List[Term]]:\n\u001b[0;32m     64\u001b[0m \u001b[38;5;250m    \u001b[39m\u001b[38;5;124;03m\"\"\"\u001b[39;00m\n\u001b[0;32m     65\u001b[0m \u001b[38;5;124;03m    Assemble the `Term` instances for a formula string. Depending on the\u001b[39;00m\n\u001b[0;32m     66\u001b[0m \u001b[38;5;124;03m    operators involved, this may be an iterable of `Term` instances, or\u001b[39;00m\n\u001b[1;32m   (...)\u001b[0m\n\u001b[0;32m     70\u001b[0m \u001b[38;5;124;03m        formula: The formula for which an AST should be generated.\u001b[39;00m\n\u001b[0;32m     71\u001b[0m \u001b[38;5;124;03m    \"\"\"\u001b[39;00m\n\u001b[1;32m---> 72\u001b[0m     ast \u001b[38;5;241m=\u001b[39m \u001b[38;5;28mself\u001b[39m\u001b[38;5;241m.\u001b[39mget_ast(formula)\n\u001b[0;32m     73\u001b[0m     \u001b[38;5;28;01mif\u001b[39;00m ast \u001b[38;5;129;01mis\u001b[39;00m \u001b[38;5;28;01mNone\u001b[39;00m:\n\u001b[0;32m     74\u001b[0m         \u001b[38;5;28;01mreturn\u001b[39;00m Structured([])\n",
      "File \u001b[1;32m~\\anaconda3\\Lib\\site-packages\\formulaic\\parser\\types\\formula_parser.py:58\u001b[0m, in \u001b[0;36mFormulaParser.get_ast\u001b[1;34m(self, formula)\u001b[0m\n\u001b[0;32m     50\u001b[0m \u001b[38;5;250m\u001b[39m\u001b[38;5;124;03m\"\"\"\u001b[39;00m\n\u001b[0;32m     51\u001b[0m \u001b[38;5;124;03mAssemble an abstract syntax tree for the nominated `formula` string.\u001b[39;00m\n\u001b[0;32m     52\u001b[0m \n\u001b[0;32m     53\u001b[0m \u001b[38;5;124;03mArgs:\u001b[39;00m\n\u001b[0;32m     54\u001b[0m \u001b[38;5;124;03m    formula: The formula for which an AST should be generated.\u001b[39;00m\n\u001b[0;32m     55\u001b[0m \u001b[38;5;124;03m\"\"\"\u001b[39;00m\n\u001b[0;32m     56\u001b[0m \u001b[38;5;28;01mfrom\u001b[39;00m \u001b[38;5;21;01m.\u001b[39;00m\u001b[38;5;21;01m.\u001b[39;00m\u001b[38;5;21;01malgos\u001b[39;00m\u001b[38;5;21;01m.\u001b[39;00m\u001b[38;5;21;01mtokens_to_ast\u001b[39;00m \u001b[38;5;28;01mimport\u001b[39;00m tokens_to_ast\n\u001b[1;32m---> 58\u001b[0m \u001b[38;5;28;01mreturn\u001b[39;00m tokens_to_ast(\n\u001b[0;32m     59\u001b[0m     \u001b[38;5;28mself\u001b[39m\u001b[38;5;241m.\u001b[39mget_tokens(formula),\n\u001b[0;32m     60\u001b[0m     operator_resolver\u001b[38;5;241m=\u001b[39m\u001b[38;5;28mself\u001b[39m\u001b[38;5;241m.\u001b[39moperator_resolver,\n\u001b[0;32m     61\u001b[0m )\n",
      "File \u001b[1;32m~\\anaconda3\\Lib\\site-packages\\formulaic\\parser\\algos\\tokens_to_ast.py:103\u001b[0m, in \u001b[0;36mtokens_to_ast\u001b[1;34m(tokens, operator_resolver)\u001b[0m\n\u001b[0;32m     97\u001b[0m \u001b[38;5;28;01melif\u001b[39;00m token\u001b[38;5;241m.\u001b[39mkind \u001b[38;5;129;01mis\u001b[39;00m token\u001b[38;5;241m.\u001b[39mKind\u001b[38;5;241m.\u001b[39mOPERATOR:\n\u001b[0;32m     98\u001b[0m     max_prefix_arity \u001b[38;5;241m=\u001b[39m (\n\u001b[0;32m     99\u001b[0m         \u001b[38;5;28mlen\u001b[39m(output_queue) \u001b[38;5;241m-\u001b[39m operator_stack[\u001b[38;5;241m-\u001b[39m\u001b[38;5;241m1\u001b[39m]\u001b[38;5;241m.\u001b[39mindex\n\u001b[0;32m    100\u001b[0m         \u001b[38;5;28;01mif\u001b[39;00m operator_stack\n\u001b[0;32m    101\u001b[0m         \u001b[38;5;28;01melse\u001b[39;00m \u001b[38;5;28mlen\u001b[39m(output_queue)\n\u001b[0;32m    102\u001b[0m     )\n\u001b[1;32m--> 103\u001b[0m     operators \u001b[38;5;241m=\u001b[39m operator_resolver\u001b[38;5;241m.\u001b[39mresolve(\n\u001b[0;32m    104\u001b[0m         token,\n\u001b[0;32m    105\u001b[0m         max_prefix_arity\u001b[38;5;241m=\u001b[39mmax_prefix_arity,\n\u001b[0;32m    106\u001b[0m         context\u001b[38;5;241m=\u001b[39m[s\u001b[38;5;241m.\u001b[39moperator \u001b[38;5;28;01mfor\u001b[39;00m s \u001b[38;5;129;01min\u001b[39;00m operator_stack],\n\u001b[0;32m    107\u001b[0m     )\n\u001b[0;32m    109\u001b[0m     \u001b[38;5;28;01mfor\u001b[39;00m operator \u001b[38;5;129;01min\u001b[39;00m operators:\n\u001b[0;32m    111\u001b[0m         \u001b[38;5;28;01mwhile\u001b[39;00m (\n\u001b[0;32m    112\u001b[0m             operator_stack\n\u001b[0;32m    113\u001b[0m             \u001b[38;5;129;01mand\u001b[39;00m operator_stack[\u001b[38;5;241m-\u001b[39m\u001b[38;5;241m1\u001b[39m]\u001b[38;5;241m.\u001b[39mtoken\u001b[38;5;241m.\u001b[39mkind \u001b[38;5;129;01mis\u001b[39;00m \u001b[38;5;129;01mnot\u001b[39;00m Token\u001b[38;5;241m.\u001b[39mKind\u001b[38;5;241m.\u001b[39mCONTEXT\n\u001b[1;32m   (...)\u001b[0m\n\u001b[0;32m    118\u001b[0m             )\n\u001b[0;32m    119\u001b[0m         ):\n",
      "File \u001b[1;32m~\\anaconda3\\Lib\\site-packages\\formulaic\\parser\\parser.py:362\u001b[0m, in \u001b[0;36mDefaultOperatorResolver.resolve\u001b[1;34m(self, token, max_prefix_arity, context)\u001b[0m\n\u001b[0;32m    359\u001b[0m \u001b[38;5;28;01mif\u001b[39;00m symbol \u001b[38;5;129;01min\u001b[39;00m \u001b[38;5;28mself\u001b[39m\u001b[38;5;241m.\u001b[39moperator_table:\n\u001b[0;32m    360\u001b[0m     \u001b[38;5;28;01mreturn\u001b[39;00m [\u001b[38;5;28mself\u001b[39m\u001b[38;5;241m.\u001b[39m_resolve(token, symbol, max_prefix_arity, context)]\n\u001b[1;32m--> 362\u001b[0m \u001b[38;5;28;01mreturn\u001b[39;00m [\n\u001b[0;32m    363\u001b[0m     \u001b[38;5;28mself\u001b[39m\u001b[38;5;241m.\u001b[39m_resolve(token, sym, max_prefix_arity \u001b[38;5;28;01mif\u001b[39;00m i \u001b[38;5;241m==\u001b[39m \u001b[38;5;241m0\u001b[39m \u001b[38;5;28;01melse\u001b[39;00m \u001b[38;5;241m0\u001b[39m, context)\n\u001b[0;32m    364\u001b[0m     \u001b[38;5;28;01mfor\u001b[39;00m i, sym \u001b[38;5;129;01min\u001b[39;00m \u001b[38;5;28menumerate\u001b[39m(symbol)\n\u001b[0;32m    365\u001b[0m ]\n",
      "File \u001b[1;32m~\\anaconda3\\Lib\\site-packages\\formulaic\\parser\\parser.py:363\u001b[0m, in \u001b[0;36m<listcomp>\u001b[1;34m(.0)\u001b[0m\n\u001b[0;32m    359\u001b[0m \u001b[38;5;28;01mif\u001b[39;00m symbol \u001b[38;5;129;01min\u001b[39;00m \u001b[38;5;28mself\u001b[39m\u001b[38;5;241m.\u001b[39moperator_table:\n\u001b[0;32m    360\u001b[0m     \u001b[38;5;28;01mreturn\u001b[39;00m [\u001b[38;5;28mself\u001b[39m\u001b[38;5;241m.\u001b[39m_resolve(token, symbol, max_prefix_arity, context)]\n\u001b[0;32m    362\u001b[0m \u001b[38;5;28;01mreturn\u001b[39;00m [\n\u001b[1;32m--> 363\u001b[0m     \u001b[38;5;28mself\u001b[39m\u001b[38;5;241m.\u001b[39m_resolve(token, sym, max_prefix_arity \u001b[38;5;28;01mif\u001b[39;00m i \u001b[38;5;241m==\u001b[39m \u001b[38;5;241m0\u001b[39m \u001b[38;5;28;01melse\u001b[39;00m \u001b[38;5;241m0\u001b[39m, context)\n\u001b[0;32m    364\u001b[0m     \u001b[38;5;28;01mfor\u001b[39;00m i, sym \u001b[38;5;129;01min\u001b[39;00m \u001b[38;5;28menumerate\u001b[39m(symbol)\n\u001b[0;32m    365\u001b[0m ]\n",
      "File \u001b[1;32m~\\anaconda3\\Lib\\site-packages\\formulaic\\parser\\types\\operator_resolver.py:82\u001b[0m, in \u001b[0;36mOperatorResolver._resolve\u001b[1;34m(self, token, symbol, max_prefix_arity, context)\u001b[0m\n\u001b[0;32m     78\u001b[0m \u001b[38;5;250m\u001b[39m\u001b[38;5;124;03m\"\"\"\u001b[39;00m\n\u001b[0;32m     79\u001b[0m \u001b[38;5;124;03mThe default operator resolving logic.\u001b[39;00m\n\u001b[0;32m     80\u001b[0m \u001b[38;5;124;03m\"\"\"\u001b[39;00m\n\u001b[0;32m     81\u001b[0m \u001b[38;5;28;01mif\u001b[39;00m symbol \u001b[38;5;129;01mnot\u001b[39;00m \u001b[38;5;129;01min\u001b[39;00m \u001b[38;5;28mself\u001b[39m\u001b[38;5;241m.\u001b[39moperator_table:\n\u001b[1;32m---> 82\u001b[0m     \u001b[38;5;28;01mraise\u001b[39;00m exc_for_token(token, \u001b[38;5;124mf\u001b[39m\u001b[38;5;124m\"\u001b[39m\u001b[38;5;124mUnknown operator \u001b[39m\u001b[38;5;124m'\u001b[39m\u001b[38;5;132;01m{\u001b[39;00msymbol\u001b[38;5;132;01m}\u001b[39;00m\u001b[38;5;124m'\u001b[39m\u001b[38;5;124m.\u001b[39m\u001b[38;5;124m\"\u001b[39m)\n\u001b[0;32m     83\u001b[0m candidates \u001b[38;5;241m=\u001b[39m [\n\u001b[0;32m     84\u001b[0m     candidate\n\u001b[0;32m     85\u001b[0m     \u001b[38;5;28;01mfor\u001b[39;00m candidate \u001b[38;5;129;01min\u001b[39;00m \u001b[38;5;28mself\u001b[39m\u001b[38;5;241m.\u001b[39moperator_table[symbol]\n\u001b[1;32m   (...)\u001b[0m\n\u001b[0;32m     92\u001b[0m     \u001b[38;5;129;01mand\u001b[39;00m candidate\u001b[38;5;241m.\u001b[39maccepts_context(context)\n\u001b[0;32m     93\u001b[0m ]\n\u001b[0;32m     94\u001b[0m \u001b[38;5;28;01mif\u001b[39;00m \u001b[38;5;129;01mnot\u001b[39;00m candidates:\n",
      "\u001b[1;31mFormulaSyntaxError\u001b[0m: Unknown operator '?'.\n\n⧛\u001b[1;31m???\u001b[0m⧚"
     ]
    }
   ],
   "source": [
    "# Ajustamos un modelo lineal y calculamos el coeficiente de correlación R^2\n",
    "y, X = (\n",
    "    Formula('???')\n",
    "    .get_model_matrix(penguins)\n",
    ")\n",
    "display(X.head()) "
   ]
  },
  {
   "cell_type": "code",
   "execution_count": null,
   "id": "f1b3bfde",
   "metadata": {},
   "outputs": [],
   "source": [
    "modelo = linear_model.LinearRegression(fit_intercept = False)    # Inicializamos un modelo de Regresion Lineal sin intercept\n",
    "modelo.fit(X, y)   # Realizamos el ajuste\n",
    "print(\"Coeficientes:\", modelo.coef_)\n",
    "\n",
    "y_pred = modelo.predict(X)\n",
    "# Calculando el R^2\n",
    "r2 = r2_score(y, y_pred)\n",
    "print('R^2: ', r2)\n",
    "\n",
    "# Calculando el ECM\n",
    "ecm = mean_squared_error(y, y_pred)\n",
    "print('Raiz cuadarada del ECM: ', np.sqrt(ecm))"
   ]
  },
  {
   "cell_type": "markdown",
   "id": "e0ff005d",
   "metadata": {},
   "source": [
    "Si analizamos rápidamente estos resultados diríamos que no hay relación entre el largo y la produndidad... (o que hay correlación negativa porque la pendiente es negativa). Resulta un poco extraño..."
   ]
  },
  {
   "cell_type": "markdown",
   "id": "0ee31575",
   "metadata": {},
   "source": [
    "¿Cómo podemos analizar mejor qué está pasando?\n",
    ".\n",
    "\n",
    ".\n",
    "\n",
    ".\n",
    "\n",
    ".\n",
    "\n",
    ".\n",
    "\n",
    ".\n",
    "\n",
    ".\n",
    "\n",
    ".\n",
    "\n",
    ".\n",
    "\n",
    ".\n",
    "\n",
    ".\n",
    "\n",
    ".\n",
    "\n",
    ".\n",
    "\n",
    ".\n",
    "\n",
    ".\n",
    "\n",
    "\n"
   ]
  },
  {
   "cell_type": "markdown",
   "id": "0dbdfe28",
   "metadata": {},
   "source": [
    "Realicemos un gráfico!"
   ]
  },
  {
   "cell_type": "code",
   "execution_count": null,
   "id": "8c4617e5",
   "metadata": {},
   "outputs": [],
   "source": [
    "(\n",
    "    so.Plot(data = penguins, x = \"bill_length_mm\", y = \"bill_depth_mm\")\n",
    "    .add(so.Dot())\n",
    "    .add(so.Line(), so.PolyFit(1))\n",
    ")"
   ]
  },
  {
   "cell_type": "markdown",
   "id": "1ca5dc8c",
   "metadata": {},
   "source": [
    "El gráfico confirma la correlación negativa, pero notan algo raro? Tal vez hay algo que no estamos teniendo en cuenta?\n",
    "\n",
    ".\n",
    "\n",
    ".\n",
    "\n",
    ".\n",
    "\n",
    ".\n",
    "\n",
    ".\n",
    "\n",
    "\n",
    ".\n",
    "\n",
    ".\n",
    "\n",
    ".\n",
    "\n",
    ".\n",
    "\n",
    ".\n",
    "\n",
    "\n",
    ".\n",
    "\n",
    ".\n",
    "\n",
    ".\n",
    "\n",
    ".\n",
    "\n",
    ".\n",
    "\n"
   ]
  },
  {
   "cell_type": "markdown",
   "id": "bfdb9535",
   "metadata": {},
   "source": [
    "Repetimos el gráfico coloreando los puntos según la especie."
   ]
  },
  {
   "cell_type": "code",
   "execution_count": null,
   "id": "5ad6791a",
   "metadata": {},
   "outputs": [],
   "source": [
    "(\n",
    "    so.Plot(data = penguins, x = \"bill_depth_mm\", y = \"bill_length_mm\", color = \"species\")\n",
    "    .add(so.Dot())\n",
    ")"
   ]
  },
  {
   "cell_type": "markdown",
   "id": "792ac09e",
   "metadata": {},
   "source": [
    "En este gráfico por especie vemos dentro de cada especie puede haber correlación. Verificamos agregando los ajustes por especie."
   ]
  },
  {
   "cell_type": "code",
   "execution_count": null,
   "id": "50227811",
   "metadata": {},
   "outputs": [],
   "source": [
    "(\n",
    "    so.Plot(data = penguins, x = \"bill_depth_mm\", y = \"bill_length_mm\", color = \"species\")\n",
    "    .add(so.Dot())\n",
    "    .add(so.Line(), so.PolyFit(1))\n",
    ")"
   ]
  },
  {
   "cell_type": "markdown",
   "id": "0ca560b0",
   "metadata": {},
   "source": [
    "Ahora las rectas tienen pendiente positiva! Al considerar todas las especies al mismo tiempo, no podíamos ver esta correlación."
   ]
  },
  {
   "cell_type": "markdown",
   "id": "add3e9d4",
   "metadata": {},
   "source": [
    "## La paradoja de Simpson\n",
    "La paradoja de Simpson es un fenómeno estadístico en el cual una relación entre variables aparece, desaparece o se revierte al dividir a la población en subpoblaciones."
   ]
  },
  {
   "cell_type": "markdown",
   "id": "5024b0a9",
   "metadata": {},
   "source": [
    "**Ejemplo.** Veamos otro ejemplo simulado.\n",
    "Generamos dos poblaciones distribuidas aleatoriamente alrededor de dos centros."
   ]
  },
  {
   "cell_type": "code",
   "execution_count": null,
   "id": "c6a060e1",
   "metadata": {},
   "outputs": [],
   "source": [
    "from sklearn.datasets import make_blobs\n",
    "centers = [[2, 2], [-2, -2]]\n",
    "X, labels_true = make_blobs(\n",
    "    n_samples=750, centers=centers, cluster_std=0.4, random_state=0)\n",
    "x = X[:,0]\n",
    "y = X[:,1]"
   ]
  },
  {
   "cell_type": "code",
   "execution_count": null,
   "id": "803b3c65",
   "metadata": {},
   "outputs": [],
   "source": [
    "(\n",
    "    so.Plot(x = x, y = y)\n",
    "    .add(so.Dot(), color = labels_true)\n",
    "    .add(so.Line(), so.PolyFit(1))\n",
    ")"
   ]
  },
  {
   "cell_type": "markdown",
   "id": "14b6435d",
   "metadata": {},
   "source": [
    "En este ejemplo, podríamos decir que hay correlación entre la variable $x$ y la variable $y$?\n",
    "\n",
    "Calculemos el R^2..."
   ]
  },
  {
   "cell_type": "code",
   "execution_count": null,
   "id": "a2cfb9ab",
   "metadata": {},
   "outputs": [],
   "source": [
    "modelo = linear_model.LinearRegression()    # Inicializamos un modelo de Regresion Lineal\n",
    "modelo.fit(pd.DataFrame(x), y)   # Realiza\n",
    "\n",
    "print(\"Coeficientes:\", modelo.coef_)\n",
    "\n",
    "# Medidas de bondad\n",
    "\n",
    "y_pred = modelo.predict(pd.DataFrame(X[:,0]))\n",
    "\n",
    "# Calculando el R^2\n",
    "r2 = r2_score(X[:,1], y_pred)\n",
    "print('R^2: ', r2)"
   ]
  },
  {
   "cell_type": "markdown",
   "id": "85091992",
   "metadata": {},
   "source": [
    "Los datos parecen altamente correlacionados. Pero si separamos por grupo..."
   ]
  },
  {
   "cell_type": "code",
   "execution_count": null,
   "id": "d8f197a6",
   "metadata": {},
   "outputs": [],
   "source": [
    "(\n",
    "    so.Plot(x = x, y = y)\n",
    "    .add(so.Dot(), color = labels_true)\n",
    "    .add(so.Line(), so.PolyFit(1), group = labels_true)\n",
    ")"
   ]
  },
  {
   "cell_type": "markdown",
   "id": "4536b851",
   "metadata": {},
   "source": [
    "Vemos en el gráfico que la pendiente ahora pasa a ser casi 0.\n",
    "\n",
    "¿Cómo podemos construir nosotros estos modelos y calcular los coeficientes y el R^2?\n",
    "\n",
    "Recordemos las operaciones que nos permite hacer Formulaic.\n",
    "\n",
    "| Operador | Ejemplo          | Función                                                                                           |\n",
    "|:---------|:-----------------|:---------------------------------------------------------------------------------------------------|\n",
    "| ~        | y ~ x            | Separa la variable (y) respuesta a la izquierda, de el/los predictor/es a la derecha (x).       |\n",
    "| +        | y ~ x + z        | Adiciona (suma) términos al modelo.                                                              |\n",
    "| :        | y ~ x : z        | Interacción entre términos. y es lineal en x ⋅ z.                                                |\n",
    "| *        | y ~ x * z        | Combina adición e interacción entre términos. y ~ x * z es equivalente a y ~ x + z + x : z       |"
   ]
  },
  {
   "cell_type": "code",
   "execution_count": null,
   "id": "ef05a8bd",
   "metadata": {},
   "outputs": [],
   "source": [
    "y, X = Formula(\"bill_length_mm ~ ???\").get_model_matrix(penguins)\n",
    "display(X)"
   ]
  },
  {
   "cell_type": "code",
   "execution_count": null,
   "id": "fcd39088",
   "metadata": {},
   "outputs": [],
   "source": [
    "modelo = linear_model.LinearRegression(fit_intercept = False)    # Inicializamos un modelo de Regresion Lineal sin intercept\n",
    "modelo.fit(X, y)   # Realiza\n",
    "print(\"Coeficientes:\", modelo.coef_)"
   ]
  },
  {
   "cell_type": "markdown",
   "id": "fd892530",
   "metadata": {},
   "source": [
    "**Pregunta:** ¿Cuáles coeficientes nos indican las pendientes de las rectas?"
   ]
  },
  {
   "cell_type": "code",
   "execution_count": null,
   "id": "24c29b2f",
   "metadata": {},
   "outputs": [],
   "source": [
    "# Calculamos el R^2\n",
    "y_pred = modelo.predict(X)\n",
    "\n",
    "# Calculando el R^2\n",
    "r2 = r2_score(y, y_pred)\n",
    "print('R^2: ', r2)"
   ]
  },
  {
   "cell_type": "code",
   "execution_count": null,
   "id": "9c9c8779",
   "metadata": {},
   "outputs": [],
   "source": [
    "# Los últimos tres números son las pendientes de las rectas.\n",
    "# Cómo podemos graficar este modelo?\n",
    "\n",
    "y_pred = modelo.predict(X)\n",
    "\n",
    "(\n",
    "    so.Plot(data = penguins, x = \"bill_depth_mm\", y = \"bill_length_mm\", color = \"species\")\n",
    "    .add(so.Dot())\n",
    "    .add(so.Line(), ???)  # Otro milagro!! No le tenía ninguna fe a esto :)\n",
    ")"
   ]
  },
  {
   "cell_type": "markdown",
   "id": "ea28e245",
   "metadata": {},
   "source": [
    "**Ejercicio.** Realizar ahora un modelo donde todas las rectas tengan la misma pendiente y solo cambie el intercept según la especie."
   ]
  },
  {
   "cell_type": "markdown",
   "id": "f2ab7190",
   "metadata": {},
   "source": [
    "# Validación cruzada\n",
    "Queremos estimar los costos de salud que tendrá un cliente de una prepaga en función de algunas variables de la persona."
   ]
  },
  {
   "cell_type": "code",
   "execution_count": 370,
   "id": "d9ddb74b",
   "metadata": {},
   "outputs": [
    {
     "data": {
      "text/html": [
       "<div>\n",
       "<style scoped>\n",
       "    .dataframe tbody tr th:only-of-type {\n",
       "        vertical-align: middle;\n",
       "    }\n",
       "\n",
       "    .dataframe tbody tr th {\n",
       "        vertical-align: top;\n",
       "    }\n",
       "\n",
       "    .dataframe thead th {\n",
       "        text-align: right;\n",
       "    }\n",
       "</style>\n",
       "<table border=\"1\" class=\"dataframe\">\n",
       "  <thead>\n",
       "    <tr style=\"text-align: right;\">\n",
       "      <th></th>\n",
       "      <th>age</th>\n",
       "      <th>sex</th>\n",
       "      <th>bmi</th>\n",
       "      <th>children</th>\n",
       "      <th>smoker</th>\n",
       "      <th>region</th>\n",
       "      <th>charges</th>\n",
       "    </tr>\n",
       "  </thead>\n",
       "  <tbody>\n",
       "    <tr>\n",
       "      <th>0</th>\n",
       "      <td>19</td>\n",
       "      <td>female</td>\n",
       "      <td>27.900</td>\n",
       "      <td>0</td>\n",
       "      <td>yes</td>\n",
       "      <td>southwest</td>\n",
       "      <td>16884.92400</td>\n",
       "    </tr>\n",
       "    <tr>\n",
       "      <th>1</th>\n",
       "      <td>18</td>\n",
       "      <td>male</td>\n",
       "      <td>33.770</td>\n",
       "      <td>1</td>\n",
       "      <td>no</td>\n",
       "      <td>southeast</td>\n",
       "      <td>1725.55230</td>\n",
       "    </tr>\n",
       "    <tr>\n",
       "      <th>2</th>\n",
       "      <td>28</td>\n",
       "      <td>male</td>\n",
       "      <td>33.000</td>\n",
       "      <td>3</td>\n",
       "      <td>no</td>\n",
       "      <td>southeast</td>\n",
       "      <td>4449.46200</td>\n",
       "    </tr>\n",
       "    <tr>\n",
       "      <th>3</th>\n",
       "      <td>33</td>\n",
       "      <td>male</td>\n",
       "      <td>22.705</td>\n",
       "      <td>0</td>\n",
       "      <td>no</td>\n",
       "      <td>northwest</td>\n",
       "      <td>21984.47061</td>\n",
       "    </tr>\n",
       "    <tr>\n",
       "      <th>4</th>\n",
       "      <td>32</td>\n",
       "      <td>male</td>\n",
       "      <td>28.880</td>\n",
       "      <td>0</td>\n",
       "      <td>no</td>\n",
       "      <td>northwest</td>\n",
       "      <td>3866.85520</td>\n",
       "    </tr>\n",
       "    <tr>\n",
       "      <th>...</th>\n",
       "      <td>...</td>\n",
       "      <td>...</td>\n",
       "      <td>...</td>\n",
       "      <td>...</td>\n",
       "      <td>...</td>\n",
       "      <td>...</td>\n",
       "      <td>...</td>\n",
       "    </tr>\n",
       "    <tr>\n",
       "      <th>1333</th>\n",
       "      <td>50</td>\n",
       "      <td>male</td>\n",
       "      <td>30.970</td>\n",
       "      <td>3</td>\n",
       "      <td>no</td>\n",
       "      <td>northwest</td>\n",
       "      <td>10600.54830</td>\n",
       "    </tr>\n",
       "    <tr>\n",
       "      <th>1334</th>\n",
       "      <td>18</td>\n",
       "      <td>female</td>\n",
       "      <td>31.920</td>\n",
       "      <td>0</td>\n",
       "      <td>no</td>\n",
       "      <td>northeast</td>\n",
       "      <td>2205.98080</td>\n",
       "    </tr>\n",
       "    <tr>\n",
       "      <th>1335</th>\n",
       "      <td>18</td>\n",
       "      <td>female</td>\n",
       "      <td>36.850</td>\n",
       "      <td>0</td>\n",
       "      <td>no</td>\n",
       "      <td>southeast</td>\n",
       "      <td>1629.83350</td>\n",
       "    </tr>\n",
       "    <tr>\n",
       "      <th>1336</th>\n",
       "      <td>21</td>\n",
       "      <td>female</td>\n",
       "      <td>25.800</td>\n",
       "      <td>0</td>\n",
       "      <td>no</td>\n",
       "      <td>southwest</td>\n",
       "      <td>2007.94500</td>\n",
       "    </tr>\n",
       "    <tr>\n",
       "      <th>1337</th>\n",
       "      <td>61</td>\n",
       "      <td>female</td>\n",
       "      <td>29.070</td>\n",
       "      <td>0</td>\n",
       "      <td>yes</td>\n",
       "      <td>northwest</td>\n",
       "      <td>29141.36030</td>\n",
       "    </tr>\n",
       "  </tbody>\n",
       "</table>\n",
       "<p>1338 rows × 7 columns</p>\n",
       "</div>"
      ],
      "text/plain": [
       "      age     sex     bmi  children smoker     region      charges\n",
       "0      19  female  27.900         0    yes  southwest  16884.92400\n",
       "1      18    male  33.770         1     no  southeast   1725.55230\n",
       "2      28    male  33.000         3     no  southeast   4449.46200\n",
       "3      33    male  22.705         0     no  northwest  21984.47061\n",
       "4      32    male  28.880         0     no  northwest   3866.85520\n",
       "...   ...     ...     ...       ...    ...        ...          ...\n",
       "1333   50    male  30.970         3     no  northwest  10600.54830\n",
       "1334   18  female  31.920         0     no  northeast   2205.98080\n",
       "1335   18  female  36.850         0     no  southeast   1629.83350\n",
       "1336   21  female  25.800         0     no  southwest   2007.94500\n",
       "1337   61  female  29.070         0    yes  northwest  29141.36030\n",
       "\n",
       "[1338 rows x 7 columns]"
      ]
     },
     "execution_count": 370,
     "metadata": {},
     "output_type": "execute_result"
    }
   ],
   "source": [
    "df_salud = pd.read_csv('../data/insurance.csv')\n",
    "df_salud"
   ]
  },
  {
   "cell_type": "markdown",
   "id": "9c8bdd2c",
   "metadata": {},
   "source": [
    "La variable respuesta es `charges` y el resto son variables explicativas."
   ]
  },
  {
   "cell_type": "markdown",
   "id": "baca7d3d",
   "metadata": {},
   "source": [
    "**Pregunta:** ¿Cuáles son variables numércias? ¿Cuáles son categóricas? Las variables categóricas son: ¿binarias, nominales, ordinales?"
   ]
  },
  {
   "cell_type": "code",
   "execution_count": 371,
   "id": "a7b63718",
   "metadata": {},
   "outputs": [
    {
     "name": "stdout",
     "output_type": "stream",
     "text": [
      "<class 'pandas.core.frame.DataFrame'>\n",
      "RangeIndex: 1338 entries, 0 to 1337\n",
      "Data columns (total 7 columns):\n",
      " #   Column    Non-Null Count  Dtype  \n",
      "---  ------    --------------  -----  \n",
      " 0   age       1338 non-null   int64  \n",
      " 1   sex       1338 non-null   object \n",
      " 2   bmi       1338 non-null   float64\n",
      " 3   children  1338 non-null   int64  \n",
      " 4   smoker    1338 non-null   object \n",
      " 5   region    1338 non-null   object \n",
      " 6   charges   1338 non-null   float64\n",
      "dtypes: float64(2), int64(2), object(3)\n",
      "memory usage: 73.3+ KB\n"
     ]
    }
   ],
   "source": [
    "df_salud.info()"
   ]
  },
  {
   "cell_type": "markdown",
   "id": "afeb5c23",
   "metadata": {},
   "source": [
    "**Pregunta:** ¿Cuántas categorías tiene la variable `region`?"
   ]
  },
  {
   "cell_type": "code",
   "execution_count": 372,
   "id": "0362bb71",
   "metadata": {},
   "outputs": [
    {
     "data": {
      "text/html": [
       "<div>\n",
       "<style scoped>\n",
       "    .dataframe tbody tr th:only-of-type {\n",
       "        vertical-align: middle;\n",
       "    }\n",
       "\n",
       "    .dataframe tbody tr th {\n",
       "        vertical-align: top;\n",
       "    }\n",
       "\n",
       "    .dataframe thead th {\n",
       "        text-align: right;\n",
       "    }\n",
       "</style>\n",
       "<table border=\"1\" class=\"dataframe\">\n",
       "  <thead>\n",
       "    <tr style=\"text-align: right;\">\n",
       "      <th></th>\n",
       "      <th>age</th>\n",
       "      <th>bmi</th>\n",
       "      <th>children</th>\n",
       "      <th>charges</th>\n",
       "    </tr>\n",
       "  </thead>\n",
       "  <tbody>\n",
       "    <tr>\n",
       "      <th>count</th>\n",
       "      <td>1338.000000</td>\n",
       "      <td>1338.000000</td>\n",
       "      <td>1338.000000</td>\n",
       "      <td>1338.000000</td>\n",
       "    </tr>\n",
       "    <tr>\n",
       "      <th>mean</th>\n",
       "      <td>39.207025</td>\n",
       "      <td>30.663397</td>\n",
       "      <td>1.094918</td>\n",
       "      <td>13270.422265</td>\n",
       "    </tr>\n",
       "    <tr>\n",
       "      <th>std</th>\n",
       "      <td>14.049960</td>\n",
       "      <td>6.098187</td>\n",
       "      <td>1.205493</td>\n",
       "      <td>12110.011237</td>\n",
       "    </tr>\n",
       "    <tr>\n",
       "      <th>min</th>\n",
       "      <td>18.000000</td>\n",
       "      <td>15.960000</td>\n",
       "      <td>0.000000</td>\n",
       "      <td>1121.873900</td>\n",
       "    </tr>\n",
       "    <tr>\n",
       "      <th>25%</th>\n",
       "      <td>27.000000</td>\n",
       "      <td>26.296250</td>\n",
       "      <td>0.000000</td>\n",
       "      <td>4740.287150</td>\n",
       "    </tr>\n",
       "    <tr>\n",
       "      <th>50%</th>\n",
       "      <td>39.000000</td>\n",
       "      <td>30.400000</td>\n",
       "      <td>1.000000</td>\n",
       "      <td>9382.033000</td>\n",
       "    </tr>\n",
       "    <tr>\n",
       "      <th>75%</th>\n",
       "      <td>51.000000</td>\n",
       "      <td>34.693750</td>\n",
       "      <td>2.000000</td>\n",
       "      <td>16639.912515</td>\n",
       "    </tr>\n",
       "    <tr>\n",
       "      <th>max</th>\n",
       "      <td>64.000000</td>\n",
       "      <td>53.130000</td>\n",
       "      <td>5.000000</td>\n",
       "      <td>63770.428010</td>\n",
       "    </tr>\n",
       "  </tbody>\n",
       "</table>\n",
       "</div>"
      ],
      "text/plain": [
       "               age          bmi     children       charges\n",
       "count  1338.000000  1338.000000  1338.000000   1338.000000\n",
       "mean     39.207025    30.663397     1.094918  13270.422265\n",
       "std      14.049960     6.098187     1.205493  12110.011237\n",
       "min      18.000000    15.960000     0.000000   1121.873900\n",
       "25%      27.000000    26.296250     0.000000   4740.287150\n",
       "50%      39.000000    30.400000     1.000000   9382.033000\n",
       "75%      51.000000    34.693750     2.000000  16639.912515\n",
       "max      64.000000    53.130000     5.000000  63770.428010"
      ]
     },
     "execution_count": 372,
     "metadata": {},
     "output_type": "execute_result"
    }
   ],
   "source": [
    "# Otro comando útil para analizar las variables numéricas\n",
    "df_salud.describe()"
   ]
  },
  {
   "cell_type": "markdown",
   "id": "4508899d",
   "metadata": {},
   "source": [
    "Por ejemplo, en la variable `charges` vemos que el promedio es 13270, y el máximo es 63770. Esto podría indica la presencia de outliers, que dificultan el modelo. ¿Cómo podemos visualizar los outliers?"
   ]
  },
  {
   "cell_type": "code",
   "execution_count": null,
   "id": "a0604afe",
   "metadata": {},
   "outputs": [],
   "source": []
  },
  {
   "cell_type": "markdown",
   "id": "2c3c4adb",
   "metadata": {},
   "source": [
    "Por el momento dejamos los outliers, veremos más adelante pasos para limpieza de datos."
   ]
  },
  {
   "cell_type": "markdown",
   "id": "dc485e7f",
   "metadata": {},
   "source": [
    "## Nivel 1: entrenamos y testeamos el modelo usando todos los datos"
   ]
  },
  {
   "cell_type": "code",
   "execution_count": 373,
   "id": "1a0842f2",
   "metadata": {},
   "outputs": [
    {
     "data": {
      "text/html": [
       "<div>\n",
       "<style scoped>\n",
       "    .dataframe tbody tr th:only-of-type {\n",
       "        vertical-align: middle;\n",
       "    }\n",
       "\n",
       "    .dataframe tbody tr th {\n",
       "        vertical-align: top;\n",
       "    }\n",
       "\n",
       "    .dataframe thead th {\n",
       "        text-align: right;\n",
       "    }\n",
       "</style>\n",
       "<table border=\"1\" class=\"dataframe\">\n",
       "  <thead>\n",
       "    <tr style=\"text-align: right;\">\n",
       "      <th></th>\n",
       "      <th>Intercept</th>\n",
       "      <th>age</th>\n",
       "      <th>sex[T.male]</th>\n",
       "      <th>bmi</th>\n",
       "      <th>children</th>\n",
       "      <th>smoker[T.yes]</th>\n",
       "      <th>region[T.northwest]</th>\n",
       "      <th>region[T.southeast]</th>\n",
       "      <th>region[T.southwest]</th>\n",
       "    </tr>\n",
       "  </thead>\n",
       "  <tbody>\n",
       "    <tr>\n",
       "      <th>0</th>\n",
       "      <td>1.0</td>\n",
       "      <td>19</td>\n",
       "      <td>0</td>\n",
       "      <td>27.900</td>\n",
       "      <td>0</td>\n",
       "      <td>1</td>\n",
       "      <td>0</td>\n",
       "      <td>0</td>\n",
       "      <td>1</td>\n",
       "    </tr>\n",
       "    <tr>\n",
       "      <th>1</th>\n",
       "      <td>1.0</td>\n",
       "      <td>18</td>\n",
       "      <td>1</td>\n",
       "      <td>33.770</td>\n",
       "      <td>1</td>\n",
       "      <td>0</td>\n",
       "      <td>0</td>\n",
       "      <td>1</td>\n",
       "      <td>0</td>\n",
       "    </tr>\n",
       "    <tr>\n",
       "      <th>2</th>\n",
       "      <td>1.0</td>\n",
       "      <td>28</td>\n",
       "      <td>1</td>\n",
       "      <td>33.000</td>\n",
       "      <td>3</td>\n",
       "      <td>0</td>\n",
       "      <td>0</td>\n",
       "      <td>1</td>\n",
       "      <td>0</td>\n",
       "    </tr>\n",
       "    <tr>\n",
       "      <th>3</th>\n",
       "      <td>1.0</td>\n",
       "      <td>33</td>\n",
       "      <td>1</td>\n",
       "      <td>22.705</td>\n",
       "      <td>0</td>\n",
       "      <td>0</td>\n",
       "      <td>1</td>\n",
       "      <td>0</td>\n",
       "      <td>0</td>\n",
       "    </tr>\n",
       "    <tr>\n",
       "      <th>4</th>\n",
       "      <td>1.0</td>\n",
       "      <td>32</td>\n",
       "      <td>1</td>\n",
       "      <td>28.880</td>\n",
       "      <td>0</td>\n",
       "      <td>0</td>\n",
       "      <td>1</td>\n",
       "      <td>0</td>\n",
       "      <td>0</td>\n",
       "    </tr>\n",
       "  </tbody>\n",
       "</table>\n",
       "</div>"
      ],
      "text/plain": [
       "   Intercept  age  sex[T.male]     bmi  children  smoker[T.yes]  \\\n",
       "0        1.0   19            0  27.900         0              1   \n",
       "1        1.0   18            1  33.770         1              0   \n",
       "2        1.0   28            1  33.000         3              0   \n",
       "3        1.0   33            1  22.705         0              0   \n",
       "4        1.0   32            1  28.880         0              0   \n",
       "\n",
       "   region[T.northwest]  region[T.southeast]  region[T.southwest]  \n",
       "0                    0                    0                    1  \n",
       "1                    0                    1                    0  \n",
       "2                    0                    1                    0  \n",
       "3                    1                    0                    0  \n",
       "4                    1                    0                    0  "
      ]
     },
     "execution_count": 373,
     "metadata": {},
     "output_type": "execute_result"
    }
   ],
   "source": [
    "y, X = (\n",
    "    Formula('charges ~ age + sex + bmi + children + smoker + region')\n",
    "    .get_model_matrix(df_salud)\n",
    ")\n",
    "X.head()"
   ]
  },
  {
   "cell_type": "code",
   "execution_count": 63,
   "id": "6f34168b",
   "metadata": {},
   "outputs": [
    {
     "data": {
      "text/html": [
       "<div>\n",
       "<style scoped>\n",
       "    .dataframe tbody tr th:only-of-type {\n",
       "        vertical-align: middle;\n",
       "    }\n",
       "\n",
       "    .dataframe tbody tr th {\n",
       "        vertical-align: top;\n",
       "    }\n",
       "\n",
       "    .dataframe thead th {\n",
       "        text-align: right;\n",
       "    }\n",
       "</style>\n",
       "<table border=\"1\" class=\"dataframe\">\n",
       "  <thead>\n",
       "    <tr style=\"text-align: right;\">\n",
       "      <th></th>\n",
       "      <th>Intercept</th>\n",
       "      <th>age</th>\n",
       "      <th>sex[T.male]</th>\n",
       "      <th>bmi</th>\n",
       "      <th>children</th>\n",
       "      <th>smoker[T.yes]</th>\n",
       "      <th>region[T.northwest]</th>\n",
       "      <th>region[T.southeast]</th>\n",
       "      <th>region[T.southwest]</th>\n",
       "      <th>charges</th>\n",
       "    </tr>\n",
       "  </thead>\n",
       "  <tbody>\n",
       "    <tr>\n",
       "      <th>Intercept</th>\n",
       "      <td>NaN</td>\n",
       "      <td>NaN</td>\n",
       "      <td>NaN</td>\n",
       "      <td>NaN</td>\n",
       "      <td>NaN</td>\n",
       "      <td>NaN</td>\n",
       "      <td>NaN</td>\n",
       "      <td>NaN</td>\n",
       "      <td>NaN</td>\n",
       "      <td>NaN</td>\n",
       "    </tr>\n",
       "    <tr>\n",
       "      <th>age</th>\n",
       "      <td>NaN</td>\n",
       "      <td>1.000000</td>\n",
       "      <td>-0.020856</td>\n",
       "      <td>0.109272</td>\n",
       "      <td>0.042469</td>\n",
       "      <td>-0.025019</td>\n",
       "      <td>-0.000407</td>\n",
       "      <td>-0.011642</td>\n",
       "      <td>0.010016</td>\n",
       "      <td>0.299008</td>\n",
       "    </tr>\n",
       "    <tr>\n",
       "      <th>sex[T.male]</th>\n",
       "      <td>NaN</td>\n",
       "      <td>-0.020856</td>\n",
       "      <td>1.000000</td>\n",
       "      <td>0.046371</td>\n",
       "      <td>0.017163</td>\n",
       "      <td>0.076185</td>\n",
       "      <td>-0.011156</td>\n",
       "      <td>0.017117</td>\n",
       "      <td>-0.004184</td>\n",
       "      <td>0.057292</td>\n",
       "    </tr>\n",
       "    <tr>\n",
       "      <th>bmi</th>\n",
       "      <td>NaN</td>\n",
       "      <td>0.109272</td>\n",
       "      <td>0.046371</td>\n",
       "      <td>1.000000</td>\n",
       "      <td>0.012759</td>\n",
       "      <td>0.003750</td>\n",
       "      <td>-0.135996</td>\n",
       "      <td>0.270025</td>\n",
       "      <td>-0.006205</td>\n",
       "      <td>0.198341</td>\n",
       "    </tr>\n",
       "    <tr>\n",
       "      <th>children</th>\n",
       "      <td>NaN</td>\n",
       "      <td>0.042469</td>\n",
       "      <td>0.017163</td>\n",
       "      <td>0.012759</td>\n",
       "      <td>1.000000</td>\n",
       "      <td>0.007673</td>\n",
       "      <td>0.024806</td>\n",
       "      <td>-0.023066</td>\n",
       "      <td>0.021914</td>\n",
       "      <td>0.067998</td>\n",
       "    </tr>\n",
       "    <tr>\n",
       "      <th>smoker[T.yes]</th>\n",
       "      <td>NaN</td>\n",
       "      <td>-0.025019</td>\n",
       "      <td>0.076185</td>\n",
       "      <td>0.003750</td>\n",
       "      <td>0.007673</td>\n",
       "      <td>1.000000</td>\n",
       "      <td>-0.036945</td>\n",
       "      <td>0.068498</td>\n",
       "      <td>-0.036945</td>\n",
       "      <td>0.787251</td>\n",
       "    </tr>\n",
       "    <tr>\n",
       "      <th>region[T.northwest]</th>\n",
       "      <td>NaN</td>\n",
       "      <td>-0.000407</td>\n",
       "      <td>-0.011156</td>\n",
       "      <td>-0.135996</td>\n",
       "      <td>0.024806</td>\n",
       "      <td>-0.036945</td>\n",
       "      <td>1.000000</td>\n",
       "      <td>-0.346265</td>\n",
       "      <td>-0.320829</td>\n",
       "      <td>-0.039905</td>\n",
       "    </tr>\n",
       "    <tr>\n",
       "      <th>region[T.southeast]</th>\n",
       "      <td>NaN</td>\n",
       "      <td>-0.011642</td>\n",
       "      <td>0.017117</td>\n",
       "      <td>0.270025</td>\n",
       "      <td>-0.023066</td>\n",
       "      <td>0.068498</td>\n",
       "      <td>-0.346265</td>\n",
       "      <td>1.000000</td>\n",
       "      <td>-0.346265</td>\n",
       "      <td>0.073982</td>\n",
       "    </tr>\n",
       "    <tr>\n",
       "      <th>region[T.southwest]</th>\n",
       "      <td>NaN</td>\n",
       "      <td>0.010016</td>\n",
       "      <td>-0.004184</td>\n",
       "      <td>-0.006205</td>\n",
       "      <td>0.021914</td>\n",
       "      <td>-0.036945</td>\n",
       "      <td>-0.320829</td>\n",
       "      <td>-0.346265</td>\n",
       "      <td>1.000000</td>\n",
       "      <td>-0.043210</td>\n",
       "    </tr>\n",
       "    <tr>\n",
       "      <th>charges</th>\n",
       "      <td>NaN</td>\n",
       "      <td>0.299008</td>\n",
       "      <td>0.057292</td>\n",
       "      <td>0.198341</td>\n",
       "      <td>0.067998</td>\n",
       "      <td>0.787251</td>\n",
       "      <td>-0.039905</td>\n",
       "      <td>0.073982</td>\n",
       "      <td>-0.043210</td>\n",
       "      <td>1.000000</td>\n",
       "    </tr>\n",
       "  </tbody>\n",
       "</table>\n",
       "</div>"
      ],
      "text/plain": [
       "                     Intercept       age  sex[T.male]       bmi  children  \\\n",
       "Intercept                  NaN       NaN          NaN       NaN       NaN   \n",
       "age                        NaN  1.000000    -0.020856  0.109272  0.042469   \n",
       "sex[T.male]                NaN -0.020856     1.000000  0.046371  0.017163   \n",
       "bmi                        NaN  0.109272     0.046371  1.000000  0.012759   \n",
       "children                   NaN  0.042469     0.017163  0.012759  1.000000   \n",
       "smoker[T.yes]              NaN -0.025019     0.076185  0.003750  0.007673   \n",
       "region[T.northwest]        NaN -0.000407    -0.011156 -0.135996  0.024806   \n",
       "region[T.southeast]        NaN -0.011642     0.017117  0.270025 -0.023066   \n",
       "region[T.southwest]        NaN  0.010016    -0.004184 -0.006205  0.021914   \n",
       "charges                    NaN  0.299008     0.057292  0.198341  0.067998   \n",
       "\n",
       "                     smoker[T.yes]  region[T.northwest]  region[T.southeast]  \\\n",
       "Intercept                      NaN                  NaN                  NaN   \n",
       "age                      -0.025019            -0.000407            -0.011642   \n",
       "sex[T.male]               0.076185            -0.011156             0.017117   \n",
       "bmi                       0.003750            -0.135996             0.270025   \n",
       "children                  0.007673             0.024806            -0.023066   \n",
       "smoker[T.yes]             1.000000            -0.036945             0.068498   \n",
       "region[T.northwest]      -0.036945             1.000000            -0.346265   \n",
       "region[T.southeast]       0.068498            -0.346265             1.000000   \n",
       "region[T.southwest]      -0.036945            -0.320829            -0.346265   \n",
       "charges                   0.787251            -0.039905             0.073982   \n",
       "\n",
       "                     region[T.southwest]   charges  \n",
       "Intercept                            NaN       NaN  \n",
       "age                             0.010016  0.299008  \n",
       "sex[T.male]                    -0.004184  0.057292  \n",
       "bmi                            -0.006205  0.198341  \n",
       "children                        0.021914  0.067998  \n",
       "smoker[T.yes]                  -0.036945  0.787251  \n",
       "region[T.northwest]            -0.320829 -0.039905  \n",
       "region[T.southeast]            -0.346265  0.073982  \n",
       "region[T.southwest]             1.000000 -0.043210  \n",
       "charges                        -0.043210  1.000000  "
      ]
     },
     "execution_count": 63,
     "metadata": {},
     "output_type": "execute_result"
    }
   ],
   "source": [
    "# Podemos ver la correlación entre las distintas variables (corresponde al R de un modelo lineal y=ax+b)\n",
    "pd.concat([X,y], axis = 1).corr()"
   ]
  },
  {
   "cell_type": "code",
   "execution_count": 58,
   "id": "bed211d5",
   "metadata": {},
   "outputs": [
    {
     "name": "stdout",
     "output_type": "stream",
     "text": [
      "Coeficientes: [[-11938.53857617    256.85635254   -131.3143594     339.19345361\n",
      "     475.50054515  23848.53454191   -352.96389942  -1035.02204939\n",
      "    -960.0509913 ]]\n"
     ]
    }
   ],
   "source": [
    "# Ajustamos el modelo\n",
    "modelo = linear_model.LinearRegression(fit_intercept = False)    # Inicializamos un modelo de Regresion Lineal sin intercept\n",
    "modelo.fit(X, y)   # Realiza\n",
    "print(\"Coeficientes:\", modelo.coef_)"
   ]
  },
  {
   "cell_type": "code",
   "execution_count": 64,
   "id": "6a38b47d",
   "metadata": {},
   "outputs": [
    {
     "name": "stdout",
     "output_type": "stream",
     "text": [
      "R^2:  0.7509130345985207\n",
      "Raiz cuadarada del ECM:  6041.6796511744515\n"
     ]
    }
   ],
   "source": [
    "# Predicciones\n",
    "y_pred = modelo.predict(X)\n",
    "\n",
    "# Bondad del ajuste\n",
    "r2 = r2_score(y, y_pred)\n",
    "print('R^2: ', r2)\n",
    "ecm = mean_squared_error(y, y_pred)\n",
    "print('Raiz cuadarada del ECM: ', np.sqrt(ecm))"
   ]
  },
  {
   "cell_type": "markdown",
   "id": "9c3d78df",
   "metadata": {},
   "source": [
    "## Nivel 2: separamos en entrenamiento y testeo"
   ]
  },
  {
   "cell_type": "code",
   "execution_count": 74,
   "id": "62a43416",
   "metadata": {},
   "outputs": [],
   "source": [
    "X_train, X_test, y_train, y_test = train_test_split(X, y, test_size=0.2, random_state=42)"
   ]
  },
  {
   "cell_type": "code",
   "execution_count": 75,
   "id": "ed94b90f",
   "metadata": {},
   "outputs": [
    {
     "name": "stdout",
     "output_type": "stream",
     "text": [
      "R^2:  0.7835929767120723\n",
      "Raiz cuadarada del ECM:  5796.2846592762735\n"
     ]
    }
   ],
   "source": [
    "# Ajustamos el modelo\n",
    "modelo = linear_model.LinearRegression(fit_intercept = False)    # Inicializamos un modelo de Regresion Lineal sin intercept\n",
    "modelo.fit(X_train, y_train)   # Realiza\n",
    "\n",
    "# Predicciones\n",
    "y_pred = modelo.predict(X_test)\n",
    "\n",
    "# Bondad del ajuste\n",
    "r2 = r2_score(y_test, y_pred)\n",
    "print('R^2: ', r2)\n",
    "ecm = mean_squared_error(y_test, y_pred)\n",
    "print('Raiz cuadarada del ECM: ', np.sqrt(ecm))"
   ]
  },
  {
   "cell_type": "markdown",
   "id": "ff29cea0",
   "metadata": {},
   "source": [
    "**Pregunta:** Con la semilla aleatoria 42 bajó el ECM. Si cambiamos la semilla por ejemplo a 4?"
   ]
  },
  {
   "cell_type": "markdown",
   "id": "f380dba1",
   "metadata": {},
   "source": [
    "## Nivel 3: separamos en entrenamiento, validación y testeo\n",
    "#### Paso 1: separamos en entrenamiento y testeo el dataframe original"
   ]
  },
  {
   "cell_type": "code",
   "execution_count": 318,
   "id": "b74d885f",
   "metadata": {},
   "outputs": [
    {
     "data": {
      "text/plain": [
       "(1070, 7)"
      ]
     },
     "execution_count": 318,
     "metadata": {},
     "output_type": "execute_result"
    }
   ],
   "source": [
    "df_train, df_test = train_test_split(df_salud, test_size=0.2, random_state=42)\n",
    "df_train.shape"
   ]
  },
  {
   "cell_type": "markdown",
   "id": "ad2955fb",
   "metadata": {},
   "source": [
    "Podemos también primero aplicar transformar las variables y después separar en entrenamiento y testeo, pero es preferible separar al principio el conjunto de testeo, para evitar usar en el entrenamiento datos del conjunto de testeo."
   ]
  },
  {
   "cell_type": "markdown",
   "id": "281760ad",
   "metadata": {},
   "source": [
    "#### Paso 2A: definimos un primer modelo y separamos el dataset df_train en entrenamiento y validación para entrenar el modelo."
   ]
  },
  {
   "cell_type": "code",
   "execution_count": 328,
   "id": "4ab4bfe1",
   "metadata": {},
   "outputs": [],
   "source": [
    "formula1 = 'charges ~ age + sex + bmi + children + smoker + region'\n",
    "y1, X1 = (\n",
    "    Formula(formula1)\n",
    "    .get_model_matrix(df_train)\n",
    ")"
   ]
  },
  {
   "cell_type": "code",
   "execution_count": 329,
   "id": "c8d28865",
   "metadata": {},
   "outputs": [
    {
     "data": {
      "text/plain": [
       "(856, 9)"
      ]
     },
     "execution_count": 329,
     "metadata": {},
     "output_type": "execute_result"
    }
   ],
   "source": [
    "X_train, X_val, y_train, y_val = train_test_split(X1, y1, test_size=0.2, random_state=42)\n",
    "X_train.shape"
   ]
  },
  {
   "cell_type": "code",
   "execution_count": 330,
   "id": "b9173d80",
   "metadata": {},
   "outputs": [
    {
     "name": "stdout",
     "output_type": "stream",
     "text": [
      "R^2:  0.7268029806501226\n",
      "Raiz cuadarada del ECM:  6602.039502172558\n"
     ]
    }
   ],
   "source": [
    "modelo1 = linear_model.LinearRegression(fit_intercept = False)    # Inicializamos un modelo de Regresion Lineal sin intercept\n",
    "modelo1.fit(X_train, y_train)   # Realiza\n",
    "\n",
    "# Predicciones\n",
    "y_pred = modelo1.predict(X_val)\n",
    "\n",
    "# Bondad del ajuste\n",
    "r2 = r2_score(y_val, y_pred)\n",
    "print('R^2: ', r2)\n",
    "ecm = mean_squared_error(y_val, y_pred)\n",
    "print('Raiz cuadarada del ECM: ', np.sqrt(ecm))"
   ]
  },
  {
   "cell_type": "markdown",
   "id": "3ce03855",
   "metadata": {},
   "source": [
    "#### Paso 2B: definimos otro modelo y repetimos el paso 2A"
   ]
  },
  {
   "cell_type": "code",
   "execution_count": 331,
   "id": "334c623b",
   "metadata": {},
   "outputs": [
    {
     "data": {
      "text/plain": [
       "(856, 5)"
      ]
     },
     "execution_count": 331,
     "metadata": {},
     "output_type": "execute_result"
    }
   ],
   "source": [
    "formula2 = 'charges ~ age + bmi + children + smoker'\n",
    "y2, X2 = (\n",
    "    Formula(formula2)\n",
    "    .get_model_matrix(df_train)\n",
    ")\n",
    "X_train, X_val, y_train, y_val = train_test_split(X2, y2, test_size=0.2, random_state=42)\n",
    "X_train.shape"
   ]
  },
  {
   "cell_type": "code",
   "execution_count": 332,
   "id": "e56d8cfb",
   "metadata": {},
   "outputs": [
    {
     "name": "stdout",
     "output_type": "stream",
     "text": [
      "R^2:  0.7263709097118607\n",
      "Raiz cuadarada del ECM:  6607.258121408381\n"
     ]
    }
   ],
   "source": [
    "modelo2 = linear_model.LinearRegression(fit_intercept = False)    # Inicializamos un modelo de Regresion Lineal sin intercept\n",
    "modelo2.fit(X_train, y_train)   # Realiza\n",
    "\n",
    "# Predicciones\n",
    "y_pred = modelo2.predict(X_val)\n",
    "\n",
    "# Bondad del ajuste\n",
    "r2 = r2_score(y_val, y_pred)\n",
    "print('R^2: ', r2)\n",
    "ecm = mean_squared_error(y_val, y_pred)\n",
    "print('Raiz cuadarada del ECM: ', np.sqrt(ecm))"
   ]
  },
  {
   "cell_type": "markdown",
   "id": "bff8b587",
   "metadata": {},
   "source": [
    "#### Paso 3: de los modelos probados, nos quedamos con el de menor RECM. \n",
    "Analizamos como funciona el modelo en el conjunto de validación.\n",
    "\n",
    "Para esto, entrenamos el modelo ganador utilizando TODOS los datos de entrenamiento (el modelo es la fórmula, no los coeficientes).\n",
    "\n",
    "**Recordar:** mientras mas datos usamos para entrenar, mejor!"
   ]
  },
  {
   "cell_type": "code",
   "execution_count": 334,
   "id": "5bfdd5eb",
   "metadata": {},
   "outputs": [
    {
     "name": "stdout",
     "output_type": "stream",
     "text": [
      "R^2:  0.7835929767120723\n",
      "Raiz cuadarada del ECM:  5796.2846592762735\n"
     ]
    }
   ],
   "source": [
    "# Ajustamos nuestro modelo ganador en TODO el conjunto de entrenamiento. \n",
    "modelo1.fit(X1, y1)\n",
    "\n",
    "# Realizamos las mismas transformaciones en el conjunto de testeo\n",
    "y_test, X_test = (\n",
    "    Formula(formula1)\n",
    "    .get_model_matrix(df_test)\n",
    ")\n",
    "\n",
    "# Predicciones\n",
    "y_pred = modelo1.predict(X_test)\n",
    "\n",
    "# Bondad del ajuste\n",
    "r2 = r2_score(y_test, y_pred)\n",
    "print('R^2: ', r2)\n",
    "ecm = mean_squared_error(y_test, y_pred)\n",
    "print('Raiz cuadarada del ECM: ', np.sqrt(ecm))"
   ]
  },
  {
   "cell_type": "markdown",
   "id": "2430496a",
   "metadata": {},
   "source": [
    "## Nivel 4: separamos en entrenamiento y testeo, y hacemos validación cruzada en el conjunto de entrenamiento.\n",
    "### Paso 1: separamos en entrenamiento y testeo el dataframe original"
   ]
  },
  {
   "cell_type": "code",
   "execution_count": 291,
   "id": "807f22dc",
   "metadata": {},
   "outputs": [
    {
     "data": {
      "text/plain": [
       "(1070, 7)"
      ]
     },
     "execution_count": 291,
     "metadata": {},
     "output_type": "execute_result"
    }
   ],
   "source": [
    "# La misma separación del Nivel 3\n",
    "df_train, df_test = train_test_split(df_salud, test_size=0.2, random_state=42)\n",
    "df_train.shape"
   ]
  },
  {
   "cell_type": "markdown",
   "id": "43d8e15f",
   "metadata": {},
   "source": [
    "#### Paso 2A: definimos un primer modelo y lo ajustamos por validación cruzada en el conjunto de entrenamiento."
   ]
  },
  {
   "cell_type": "code",
   "execution_count": 335,
   "id": "b147d3a1",
   "metadata": {},
   "outputs": [],
   "source": [
    "formula1 = 'charges ~ age + sex + bmi + children + smoker + region'\n",
    "y1, X1 = (\n",
    "    Formula(formula1)\n",
    "    .get_model_matrix(df_train)\n",
    ")"
   ]
  },
  {
   "cell_type": "code",
   "execution_count": 336,
   "id": "5a811f40",
   "metadata": {},
   "outputs": [],
   "source": [
    "# Definimos los subconjuntos para la validación cruzada.\n",
    "# Utilizamos KFold de sklearn\n",
    "cv = KFold(n_splits=5, random_state=42, shuffle=True)"
   ]
  },
  {
   "cell_type": "markdown",
   "id": "ca1b362f",
   "metadata": {},
   "source": [
    "## Generadores e iteradores perezosos en Python\n",
    "Nos detenemos un momento para entender qué nos devuelve KFold"
   ]
  },
  {
   "cell_type": "code",
   "execution_count": 337,
   "id": "3da5474d",
   "metadata": {},
   "outputs": [
    {
     "data": {
      "text/plain": [
       "KFold(n_splits=5, random_state=42, shuffle=True)"
      ]
     },
     "execution_count": 337,
     "metadata": {},
     "output_type": "execute_result"
    }
   ],
   "source": [
    "# Esto solo nos muestra las opciones que utilizamos\n",
    "cv"
   ]
  },
  {
   "cell_type": "code",
   "execution_count": 338,
   "id": "d51685c4",
   "metadata": {},
   "outputs": [
    {
     "data": {
      "text/plain": [
       "<generator object _BaseKFold.split at 0x0000017C674B20E0>"
      ]
     },
     "execution_count": 338,
     "metadata": {},
     "output_type": "execute_result"
    }
   ],
   "source": [
    "# La forma de utilizado es a través del método split\n",
    "pliegos = cv.split(X1)\n",
    "pliegos"
   ]
  },
  {
   "cell_type": "markdown",
   "id": "06654ddb",
   "metadata": {},
   "source": [
    "`split` nos devuelve un \"generador\", esto es un **iterador perezoso** (lazy iterator).\n",
    "\n",
    "Los iteradores perezosos son objetos que se pueden recorrer como una lista. \n",
    "\n",
    "Sin embargo, a diferencia de las listas, los iteradores perezosos no almacenan su contenido en la memoria, lo van generando a medida que lo necesitamos.\n"
   ]
  },
  {
   "cell_type": "code",
   "execution_count": 339,
   "id": "f55b5d84",
   "metadata": {},
   "outputs": [
    {
     "data": {
      "text/plain": [
       "(array([   0,    1,    4,    5,    6,    7,    8,    9,   11,   13,   14,\n",
       "          15,   16,   17,   18,   19,   20,   21,   22,   24,   25,   26,\n",
       "          27,   28,   29,   32,   33,   34,   35,   36,   37,   38,   40,\n",
       "          41,   42,   43,   44,   45,   46,   47,   48,   50,   52,   53,\n",
       "          55,   56,   57,   60,   61,   62,   64,   65,   68,   69,   71,\n",
       "          72,   73,   74,   75,   77,   79,   80,   81,   82,   84,   85,\n",
       "          87,   89,   90,   91,   92,   93,   94,   95,   97,   98,   99,\n",
       "         102,  103,  104,  105,  106,  108,  110,  111,  112,  114,  115,\n",
       "         116,  117,  118,  119,  120,  121,  122,  123,  124,  125,  126,\n",
       "         127,  128,  129,  130,  131,  132,  133,  134,  135,  137,  138,\n",
       "         140,  142,  143,  144,  145,  146,  147,  148,  149,  150,  151,\n",
       "         152,  153,  154,  155,  156,  157,  159,  160,  161,  162,  163,\n",
       "         164,  165,  166,  167,  169,  170,  171,  172,  173,  175,  176,\n",
       "         177,  179,  180,  181,  182,  183,  185,  186,  187,  188,  189,\n",
       "         190,  191,  193,  194,  195,  196,  197,  200,  201,  202,  203,\n",
       "         204,  205,  206,  207,  209,  211,  212,  213,  214,  216,  217,\n",
       "         219,  220,  221,  222,  223,  224,  225,  226,  227,  228,  229,\n",
       "         230,  232,  233,  234,  235,  236,  238,  239,  240,  241,  242,\n",
       "         245,  246,  248,  249,  250,  251,  252,  253,  254,  255,  257,\n",
       "         258,  259,  261,  262,  263,  264,  266,  267,  268,  269,  270,\n",
       "         271,  272,  274,  275,  276,  277,  278,  279,  281,  282,  283,\n",
       "         284,  285,  287,  288,  291,  293,  295,  297,  300,  301,  302,\n",
       "         303,  304,  309,  310,  311,  313,  314,  315,  316,  317,  320,\n",
       "         322,  323,  324,  325,  326,  329,  330,  332,  333,  335,  337,\n",
       "         338,  339,  340,  341,  343,  345,  347,  348,  349,  350,  351,\n",
       "         353,  354,  355,  356,  357,  358,  359,  360,  363,  364,  365,\n",
       "         366,  368,  369,  371,  372,  373,  374,  375,  376,  377,  378,\n",
       "         379,  380,  382,  383,  384,  385,  386,  387,  388,  389,  390,\n",
       "         391,  392,  393,  395,  396,  397,  399,  400,  401,  402,  403,\n",
       "         406,  407,  408,  409,  410,  411,  412,  413,  414,  415,  416,\n",
       "         417,  418,  419,  420,  421,  422,  424,  425,  426,  428,  430,\n",
       "         431,  432,  433,  434,  435,  437,  438,  439,  441,  442,  443,\n",
       "         444,  446,  448,  450,  451,  452,  454,  455,  456,  457,  459,\n",
       "         460,  461,  463,  464,  466,  468,  469,  470,  471,  472,  473,\n",
       "         474,  476,  478,  480,  483,  484,  485,  487,  488,  489,  491,\n",
       "         492,  494,  495,  496,  498,  500,  502,  503,  504,  505,  506,\n",
       "         507,  508,  509,  510,  511,  512,  513,  515,  517,  519,  520,\n",
       "         521,  522,  523,  524,  525,  526,  528,  529,  530,  531,  532,\n",
       "         534,  536,  537,  538,  540,  541,  542,  543,  544,  545,  546,\n",
       "         550,  551,  553,  555,  556,  557,  558,  559,  560,  561,  562,\n",
       "         563,  564,  565,  566,  567,  568,  569,  571,  573,  574,  575,\n",
       "         577,  578,  579,  580,  582,  583,  584,  586,  587,  590,  591,\n",
       "         592,  593,  594,  596,  597,  598,  599,  600,  603,  605,  606,\n",
       "         607,  608,  609,  610,  611,  612,  614,  615,  616,  617,  618,\n",
       "         619,  620,  621,  623,  624,  625,  626,  627,  630,  632,  634,\n",
       "         635,  636,  637,  638,  639,  640,  641,  642,  643,  645,  646,\n",
       "         647,  648,  649,  650,  651,  653,  654,  656,  658,  659,  661,\n",
       "         662,  663,  665,  666,  668,  669,  671,  672,  674,  675,  676,\n",
       "         678,  679,  680,  681,  682,  683,  684,  685,  686,  687,  688,\n",
       "         689,  690,  691,  692,  693,  695,  698,  699,  700,  701,  702,\n",
       "         703,  704,  705,  707,  708,  709,  710,  711,  712,  713,  714,\n",
       "         715,  717,  718,  719,  720,  722,  724,  725,  726,  727,  728,\n",
       "         729,  730,  731,  732,  733,  735,  736,  737,  738,  740,  741,\n",
       "         742,  743,  744,  745,  746,  747,  748,  751,  752,  753,  754,\n",
       "         756,  759,  760,  761,  762,  763,  764,  765,  766,  767,  768,\n",
       "         769,  770,  771,  772,  773,  774,  775,  776,  778,  779,  780,\n",
       "         781,  783,  784,  785,  788,  789,  791,  792,  793,  794,  795,\n",
       "         796,  797,  798,  801,  802,  803,  804,  805,  806,  807,  808,\n",
       "         810,  811,  812,  813,  814,  815,  816,  818,  819,  820,  821,\n",
       "         822,  824,  825,  826,  829,  830,  831,  832,  834,  835,  836,\n",
       "         837,  838,  839,  840,  842,  843,  844,  845,  846,  847,  848,\n",
       "         849,  850,  851,  852,  853,  854,  855,  856,  857,  859,  860,\n",
       "         861,  862,  863,  864,  865,  866,  868,  869,  870,  871,  872,\n",
       "         874,  875,  876,  878,  879,  880,  881,  882,  885,  886,  887,\n",
       "         888,  889,  891,  892,  894,  895,  896,  897,  898,  899,  900,\n",
       "         901,  904,  905,  906,  907,  908,  909,  910,  911,  912,  915,\n",
       "         916,  918,  919,  920,  921,  923,  924,  926,  927,  928,  929,\n",
       "         930,  931,  933,  934,  935,  936,  937,  938,  939,  940,  941,\n",
       "         942,  944,  945,  946,  947,  948,  949,  950,  951,  952,  953,\n",
       "         954,  955,  956,  957,  958,  959,  960,  963,  964,  965,  967,\n",
       "         968,  969,  972,  973,  974,  975,  977,  979,  980,  981,  983,\n",
       "         984,  985,  986,  987,  988,  989,  990,  991,  994,  995,  996,\n",
       "         997,  998, 1000, 1001, 1003, 1004, 1005, 1006, 1007, 1008, 1009,\n",
       "        1010, 1011, 1012, 1013, 1014, 1015, 1017, 1019, 1020, 1021, 1022,\n",
       "        1024, 1026, 1027, 1028, 1029, 1030, 1031, 1032, 1033, 1034, 1035,\n",
       "        1036, 1037, 1038, 1039, 1040, 1041, 1042, 1043, 1044, 1045, 1046,\n",
       "        1047, 1049, 1050, 1051, 1052, 1053, 1054, 1055, 1056, 1057, 1058,\n",
       "        1059, 1060, 1062, 1063, 1065, 1066, 1067, 1068, 1069]),\n",
       " array([   2,    3,   10,   12,   23,   30,   31,   39,   49,   51,   54,\n",
       "          58,   59,   63,   66,   67,   70,   76,   78,   83,   86,   88,\n",
       "          96,  100,  101,  107,  109,  113,  136,  139,  141,  158,  168,\n",
       "         174,  178,  184,  192,  198,  199,  208,  210,  215,  218,  231,\n",
       "         237,  243,  244,  247,  256,  260,  265,  273,  280,  286,  289,\n",
       "         290,  292,  294,  296,  298,  299,  305,  306,  307,  308,  312,\n",
       "         318,  319,  321,  327,  328,  331,  334,  336,  342,  344,  346,\n",
       "         352,  361,  362,  367,  370,  381,  394,  398,  404,  405,  423,\n",
       "         427,  429,  436,  440,  445,  447,  449,  453,  458,  462,  465,\n",
       "         467,  475,  477,  479,  481,  482,  486,  490,  493,  497,  499,\n",
       "         501,  514,  516,  518,  527,  533,  535,  539,  547,  548,  549,\n",
       "         552,  554,  570,  572,  576,  581,  585,  588,  589,  595,  601,\n",
       "         602,  604,  613,  622,  628,  629,  631,  633,  644,  652,  655,\n",
       "         657,  660,  664,  667,  670,  673,  677,  694,  696,  697,  706,\n",
       "         716,  721,  723,  734,  739,  749,  750,  755,  757,  758,  777,\n",
       "         782,  786,  787,  790,  799,  800,  809,  817,  823,  827,  828,\n",
       "         833,  841,  858,  867,  873,  877,  883,  884,  890,  893,  902,\n",
       "         903,  913,  914,  917,  922,  925,  932,  943,  961,  962,  966,\n",
       "         970,  971,  976,  978,  982,  992,  993,  999, 1002, 1016, 1018,\n",
       "        1023, 1025, 1048, 1061, 1064]))"
      ]
     },
     "execution_count": 339,
     "metadata": {},
     "output_type": "execute_result"
    }
   ],
   "source": [
    "# Podemos acceder a los elementos a través de la función next\n",
    "next(pliegos)"
   ]
  },
  {
   "cell_type": "code",
   "execution_count": 341,
   "id": "18223408",
   "metadata": {},
   "outputs": [
    {
     "name": "stdout",
     "output_type": "stream",
     "text": [
      "[ 2  3 10 12 23 30 31 39 49 51]\n",
      "[ 0  5  7  9 25 29 33 43 44 55]\n",
      "[ 6 11 15 18 22 24 28 41 42 46]\n",
      "[ 8 16 17 19 26 36 37 38 45 48]\n",
      "[ 1  4 13 14 20 21 27 32 34 35]\n"
     ]
    }
   ],
   "source": [
    "# Pero lo mas común es utilizarlos en un ciclo:\n",
    "pliegos = cv.split(X1)\n",
    "for train_index, test_index in pliegos:\n",
    "    print(test_index[0:10])"
   ]
  },
  {
   "cell_type": "code",
   "execution_count": 342,
   "id": "cca39510",
   "metadata": {},
   "outputs": [
    {
     "ename": "StopIteration",
     "evalue": "",
     "output_type": "error",
     "traceback": [
      "\u001b[1;31m---------------------------------------------------------------------------\u001b[0m",
      "\u001b[1;31mStopIteration\u001b[0m                             Traceback (most recent call last)",
      "Cell \u001b[1;32mIn[342], line 2\u001b[0m\n\u001b[0;32m      1\u001b[0m \u001b[38;5;66;03m# Ahora no quedo nada, ya generó todo lo que tenía para generar\u001b[39;00m\n\u001b[1;32m----> 2\u001b[0m \u001b[38;5;28mnext\u001b[39m(pliegos)\n",
      "\u001b[1;31mStopIteration\u001b[0m: "
     ]
    }
   ],
   "source": [
    "# Ahora no quedo nada, ya generó todo lo que tenía para generar\n",
    "next(pliegos)"
   ]
  },
  {
   "cell_type": "code",
   "execution_count": 343,
   "id": "fdaaf38a",
   "metadata": {},
   "outputs": [],
   "source": [
    "# Acá tampoco hay nada...\n",
    "for train_index, test_index in pliegos:\n",
    "    print(test_index[0:10])"
   ]
  },
  {
   "cell_type": "markdown",
   "id": "1db99c3f",
   "metadata": {},
   "source": [
    "#### Volvemos al Paso 2A"
   ]
  },
  {
   "cell_type": "code",
   "execution_count": 344,
   "id": "87e717bc",
   "metadata": {},
   "outputs": [],
   "source": [
    "# Para seleccionar algunas filas dados los índices, utilizamos iloc (lo vimos en la clase 2)\n",
    "for train_index, val_index in cv.split(X1):\n",
    "    X_train, X_val, y_train, y_val = X1.iloc[train_index], X1.iloc[val_index], y1.iloc[train_index], y1.iloc[val_index]\n",
    "    \n",
    "    # Acá tenemos que hacer el ajuste y la predicción para cada pliego"
   ]
  },
  {
   "cell_type": "markdown",
   "id": "07cfc27e",
   "metadata": {},
   "source": [
    "Agregamos el codigo para ajuste y predicción"
   ]
  },
  {
   "cell_type": "code",
   "execution_count": 345,
   "id": "e887bdac",
   "metadata": {},
   "outputs": [],
   "source": [
    "modelo1 = linear_model.LinearRegression(fit_intercept = False)    # Inicializamos un modelo de Regresion Lineal sin intercept\n",
    "rmse1 = np.zeros(cv.get_n_splits())  # Vamos a guardar el error en cada pliego\n",
    "\n",
    "ind = 0\n",
    "\n",
    "# Para seleccionar algunas filas dados los índices, utilizamos iloc (lo vimos en la clase 2)\n",
    "for train_index, test_index in cv.split(X1):\n",
    "    X_train, X_val, y_train, y_val = X1.iloc[train_index], X1.iloc[val_index], y1.iloc[train_index], y1.iloc[val_index]\n",
    "    modelo1.fit(X_train, y_train)\n",
    "    \n",
    "    y_pred = modelo1.predict(X_val)\n",
    "    rmse1[ind] = np.sqrt(mean_squared_error(y_val, y_pred))\n",
    "    ind = ind + 1"
   ]
  },
  {
   "cell_type": "code",
   "execution_count": 346,
   "id": "ae63e3c6",
   "metadata": {},
   "outputs": [
    {
     "name": "stdout",
     "output_type": "stream",
     "text": [
      "[5603.6714797  5601.06002551 5601.94864651 5593.78511835 5621.49155797]\n"
     ]
    }
   ],
   "source": [
    "print(rmse1)"
   ]
  },
  {
   "cell_type": "code",
   "execution_count": 347,
   "id": "2f8a1a78",
   "metadata": {},
   "outputs": [
    {
     "name": "stdout",
     "output_type": "stream",
     "text": [
      "5604.391365607384\n"
     ]
    }
   ],
   "source": [
    "print(rmse1.mean())  # Este es el valor que queremos minimizar"
   ]
  },
  {
   "cell_type": "markdown",
   "id": "892f9b39",
   "metadata": {},
   "source": [
    "#### Paso 2B: definimos otro modelo y repetimos el paso 2A"
   ]
  },
  {
   "cell_type": "code",
   "execution_count": 361,
   "id": "5c5b11bb",
   "metadata": {},
   "outputs": [],
   "source": [
    "formula2 = 'charges ~ age + bmi + children + region + smoker'\n",
    "y2, X2 = (\n",
    "    Formula(formula2)\n",
    "    .get_model_matrix(df_train)\n",
    ")\n",
    "\n",
    "cv = KFold(n_splits=5, random_state=42, shuffle=True)  # No es necesario definirlo nuevamente, solo para recordar que era.\n",
    "\n",
    "modelo2 = linear_model.LinearRegression(fit_intercept = False)    # Inicializamos un modelo de Regresion Lineal sin intercept\n",
    "rmse2 = np.zeros(cv.get_n_splits())  # Vamos a guardar el error en cada pliego\n",
    "\n",
    "ind = 0\n",
    "\n",
    "# Para seleccionar algunas filas dados los índices, utilizamos iloc (lo vimos en la clase 2)\n",
    "for train_index, test_index in cv.split(X2):\n",
    "    X_train, X_val, y_train, y_val = X2.iloc[train_index], X2.iloc[val_index], y2.iloc[train_index], y2.iloc[val_index]\n",
    "    modelo2.fit(X_train, y_train)\n",
    "    \n",
    "    y_pred = modelo2.predict(X_val)\n",
    "    rmse2[ind] = np.sqrt(mean_squared_error(y_val, y_pred))\n",
    "    ind = ind + 1"
   ]
  },
  {
   "cell_type": "code",
   "execution_count": 362,
   "id": "47a9dc4b",
   "metadata": {},
   "outputs": [
    {
     "name": "stdout",
     "output_type": "stream",
     "text": [
      "[5601.5478229  5600.54600166 5601.12884663 5593.12637971 5621.34963652]\n",
      "5603.5397374833365\n"
     ]
    }
   ],
   "source": [
    "print(rmse2)\n",
    "print(rmse2.mean())  # Este es el valor que queremos minimizar"
   ]
  },
  {
   "cell_type": "markdown",
   "id": "16475445",
   "metadata": {},
   "source": [
    "#### Paso 3: de los modelos probados, nos quedamos con el de menor RECM. \n",
    "Analizamos como funciona el modelo en el conjunto de validación.\n",
    "\n",
    "Copiamos el mismo código del paso 3 del nivel 3."
   ]
  },
  {
   "cell_type": "code",
   "execution_count": 350,
   "id": "285b2a05",
   "metadata": {},
   "outputs": [
    {
     "name": "stdout",
     "output_type": "stream",
     "text": [
      "R^2:  0.7835569786290855\n",
      "Raiz cuadarada del ECM:  5796.766728796433\n"
     ]
    }
   ],
   "source": [
    "# Ajustamos nuestro modelo ganador en TODO el conjunto de entrenamiento. \n",
    "modelo2.fit(X2, y2)\n",
    "\n",
    "# Realizamos las mismas transformaciones en el conjunto de testeo\n",
    "y_test, X_test = (\n",
    "    Formula(formula2)\n",
    "    .get_model_matrix(df_test)\n",
    ")\n",
    "\n",
    "# Predicciones\n",
    "y_pred = modelo2.predict(X_test)\n",
    "\n",
    "# Bondad del ajuste\n",
    "r2 = r2_score(y_test, y_pred)\n",
    "print('R^2: ', r2)\n",
    "ecm = mean_squared_error(y_test, y_pred)\n",
    "print('Raiz cuadarada del ECM: ', np.sqrt(ecm))"
   ]
  },
  {
   "cell_type": "code",
   "execution_count": null,
   "id": "e1c1ee85",
   "metadata": {},
   "outputs": [],
   "source": []
  }
 ],
 "metadata": {
  "kernelspec": {
   "display_name": "Python 3 (ipykernel)",
   "language": "python",
   "name": "python3"
  },
  "language_info": {
   "codemirror_mode": {
    "name": "ipython",
    "version": 3
   },
   "file_extension": ".py",
   "mimetype": "text/x-python",
   "name": "python",
   "nbconvert_exporter": "python",
   "pygments_lexer": "ipython3",
   "version": "3.11.7"
  }
 },
 "nbformat": 4,
 "nbformat_minor": 5
}
