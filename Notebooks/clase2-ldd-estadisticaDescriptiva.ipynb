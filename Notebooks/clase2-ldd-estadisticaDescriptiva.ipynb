{
 "cells": [
  {
   "cell_type": "code",
   "execution_count": null,
   "metadata": {
    "ExecuteTime": {
     "end_time": "2024-03-19T15:23:44.512783351Z",
     "start_time": "2024-03-19T15:23:43.726402652Z"
    }
   },
   "outputs": [],
   "source": [
    "import matplotlib.pyplot as plt\n",
    "import seaborn as sns\n",
    "import numpy as np\n",
    "import pandas as pd"
   ]
  },
  {
   "cell_type": "markdown",
   "metadata": {},
   "source": [
    "# Clase 2"
   ]
  },
  {
   "cell_type": "markdown",
   "metadata": {},
   "source": [
    "## Biblioteca Pandas"
   ]
  },
  {
   "cell_type": "markdown",
   "metadata": {},
   "source": [
    "Pandas es una biblioteca de Python muy usada para análisis y manipulación de datos. Provee principalmente dos tipos de clases para trabajar con datos:\n",
    "\n",
    "- **Series:** un vector unidimensional indexado, que contiene datos de cualquier tipo\n",
    "como números enteros, cadenas, objetos Python, etc.\n",
    "\n",
    "- **DataFrame:** una estructura de datos bidimensional que contiene datos como una matriz bidimensional o una tabla con filas y columnas.\n",
    "\n",
    "Bibliografía recomendada: Sección 5 de Python for Data Analysis, de Wes McKinney (creador de la biblioteca Pandas), disponible on-line en forma gratuita en la página\n",
    "https://wesmckinney.com/book/pandas-basics"
   ]
  },
  {
   "cell_type": "markdown",
   "metadata": {},
   "source": [
    "### Series\n",
    "\n",
    "Las series de Pandas son vectores similares a los arrays de NumPy, que podemos indexar usando etiquetas.\n",
    "\n",
    "Crear la siguiente Series, observar qué devuelve array e index e interpretar."
   ]
  },
  {
   "cell_type": "code",
   "execution_count": null,
   "metadata": {},
   "outputs": [],
   "source": [
    "import pandas as pd\n",
    "obj = pd.Series([7,4,-5,3])\n",
    "obj"
   ]
  },
  {
   "cell_type": "code",
   "execution_count": null,
   "metadata": {},
   "outputs": [],
   "source": [
    "obj.array"
   ]
  },
  {
   "cell_type": "code",
   "execution_count": null,
   "metadata": {},
   "outputs": [],
   "source": [
    "obj.index # Por default , los indices van de 0 a N-1."
   ]
  },
  {
   "cell_type": "markdown",
   "metadata": {},
   "source": [
    "Podemos asignar etiquetas (o índices) a cada valor de la serie."
   ]
  },
  {
   "cell_type": "code",
   "execution_count": null,
   "metadata": {},
   "outputs": [],
   "source": [
    "obj2 = pd.Series([np.pi,0,-2,1.41], index = [\"d\", \"b\", \"c\", \"a\"])\n",
    "display(obj2)\n",
    "display(obj2.array)\n",
    "display(obj2.index)"
   ]
  },
  {
   "cell_type": "markdown",
   "metadata": {},
   "source": [
    "Al igual que con arrays de Numpy podemos acceder a los elementos por su posición, o podemos usar las etiquetas."
   ]
  },
  {
   "cell_type": "code",
   "execution_count": null,
   "metadata": {},
   "outputs": [],
   "source": [
    "obj2[\"a\"]\n",
    "obj2[3]\n",
    "obj2[1:3]"
   ]
  },
  {
   "cell_type": "code",
   "execution_count": null,
   "metadata": {},
   "outputs": [],
   "source": [
    "obj3 = obj2[[\"a\",\"b\"]]\n",
    "obj3\n",
    "obj3.index"
   ]
  },
  {
   "cell_type": "code",
   "execution_count": null,
   "metadata": {},
   "outputs": [],
   "source": [
    "obj2[obj2>1]"
   ]
  },
  {
   "cell_type": "markdown",
   "metadata": {},
   "source": [
    "Las operaciones que pueden aplicarse a numpy arrays pueden aplicarse también a series de Pandas, conservando los índices."
   ]
  },
  {
   "cell_type": "code",
   "execution_count": null,
   "metadata": {},
   "outputs": [],
   "source": [
    "np.exp(obj2)"
   ]
  },
  {
   "cell_type": "code",
   "execution_count": null,
   "metadata": {},
   "outputs": [],
   "source": [
    "obj2 * 3"
   ]
  },
  {
   "cell_type": "markdown",
   "metadata": {},
   "source": [
    "¿Qué esperamos que de este código?"
   ]
  },
  {
   "cell_type": "code",
   "execution_count": null,
   "metadata": {},
   "outputs": [],
   "source": [
    "obj + obj2"
   ]
  },
  {
   "cell_type": "markdown",
   "metadata": {},
   "source": [
    "NaN significa \"not a number\", se utiliza en series de Pandas para valores faltantes (missing values)."
   ]
  },
  {
   "cell_type": "code",
   "execution_count": null,
   "metadata": {},
   "outputs": [],
   "source": [
    "# Y ahora?\n",
    "obj4 = pd.Series([1,2,3,4], index = [\"d\", \"b\", \"y\", \"z\"])\n",
    "obj2 + obj4"
   ]
  },
  {
   "cell_type": "markdown",
   "metadata": {},
   "source": [
    "Las series de Pandas tienen varias funciones útiles que iremos viendo más adelante. A modo de ejemplo, interpretar que hacen las siguientes funciones."
   ]
  },
  {
   "cell_type": "code",
   "execution_count": null,
   "metadata": {},
   "outputs": [],
   "source": [
    "series1 = pd.Series([\"a\", \"b\", \"c\", \"b\", \"a\", \"c\", \"x\"])\n",
    "series1.isin([\"b\", \"c\"])"
   ]
  },
  {
   "cell_type": "code",
   "execution_count": null,
   "metadata": {},
   "outputs": [],
   "source": [
    "series1.value_counts()"
   ]
  },
  {
   "cell_type": "markdown",
   "metadata": {},
   "source": [
    "### DataFrames\n",
    "Un data frame es una representación de los datos en formato de tabla en la que cada\n",
    "columna son vectores del mismo tamaño. Como cada columna es un vector, cada columna puede\n",
    "contener datos de un único tipo. Se pueden pensar como variables. Cada variable corresponde a una\n",
    "serie de Pandas, y todas las series de un dataframe están indexadas por los mismos ´ındices."
   ]
  },
  {
   "cell_type": "markdown",
   "metadata": {},
   "source": [
    "Una forma de crear un data frame es utilizando un \"diccionario\". Todas las variables del\n",
    "diccionario deben ser vectores o listas de la misma longitud. "
   ]
  },
  {
   "cell_type": "code",
   "execution_count": null,
   "metadata": {},
   "outputs": [],
   "source": [
    "data = {\"nombres\": [\"Rodrigo\", \"Sergio\", \"Cristina\", \"Diana\"], \"altura\": np.array([178, 172, 175, 168]), \"peso\": np.array\n",
    "([81.2, 76.1, 68.5, 64.0])}\n",
    "display(data)"
   ]
  },
  {
   "cell_type": "code",
   "execution_count": null,
   "metadata": {},
   "outputs": [],
   "source": [
    "type(data)"
   ]
  },
  {
   "cell_type": "code",
   "execution_count": null,
   "metadata": {},
   "outputs": [],
   "source": [
    "data[\"altura\"]"
   ]
  },
  {
   "cell_type": "code",
   "execution_count": null,
   "metadata": {},
   "outputs": [],
   "source": [
    "# Creamos un data frame con esos datos, usando los nombres como etiquetas\n",
    "pacientes = pd.DataFrame(data)\n",
    "display(pacientes)"
   ]
  },
  {
   "cell_type": "code",
   "execution_count": null,
   "metadata": {},
   "outputs": [],
   "source": [
    "# En este ejemplo podemos usar los nombres como índices\n",
    "pacientes = pd.DataFrame(data).set_index(\"nombres\")\n",
    "display(pacientes)"
   ]
  },
  {
   "cell_type": "code",
   "execution_count": null,
   "metadata": {},
   "outputs": [],
   "source": [
    "# Podemos acceder a las columnas de dos formas distintas\n",
    "alturas = pacientes[\"altura\"]\n",
    "alturas"
   ]
  },
  {
   "cell_type": "code",
   "execution_count": null,
   "metadata": {},
   "outputs": [],
   "source": [
    "pacientes.altura"
   ]
  },
  {
   "cell_type": "code",
   "execution_count": null,
   "metadata": {},
   "outputs": [],
   "source": [
    "type(alturas)"
   ]
  },
  {
   "cell_type": "markdown",
   "metadata": {},
   "source": [
    "A diferencia de las matrices en Numpy, un DataFrame de Pandas es un conjunto de columnas, no de filas. \n",
    "Si queremos saber la altura de Rodrigo, pensar cuál de los dos comandos será correcto antes de ejecutarlos."
   ]
  },
  {
   "cell_type": "code",
   "execution_count": null,
   "metadata": {},
   "outputs": [],
   "source": [
    "pacientes[\"Rodrigo\"].altura\n",
    "#pacientes[\"altura\"].Rodrigo"
   ]
  },
  {
   "cell_type": "markdown",
   "metadata": {},
   "source": [
    "Para acceder a una fila de un dataframe, podemos usar los métodos `loc[]` y `iloc[]`. \n",
    "\n",
    "¿Cómo se usan? ¿Cuál es la diferencia entre los dos comandos?"
   ]
  },
  {
   "cell_type": "code",
   "execution_count": null,
   "metadata": {},
   "outputs": [],
   "source": []
  },
  {
   "cell_type": "markdown",
   "metadata": {},
   "source": [
    "## Gapminder"
   ]
  },
  {
   "cell_type": "markdown",
   "metadata": {},
   "source": [
    "A modo de ejemplo, vamos a explorar el dataset Gapminder que contiene datos poblacionales y de desarrollo humano de distintos países a lo largo del tiempo.\n",
    "\n",
    "Si gapminder no está instalado, ejecutrar el siguiente comando para instalarlo"
   ]
  },
  {
   "cell_type": "code",
   "execution_count": null,
   "metadata": {
    "ExecuteTime": {
     "end_time": "2024-03-19T15:23:44.697479194Z",
     "start_time": "2024-03-19T15:23:43.774388836Z"
    }
   },
   "outputs": [],
   "source": [
    "#pip install gapminder"
   ]
  },
  {
   "cell_type": "code",
   "execution_count": null,
   "metadata": {
    "ExecuteTime": {
     "end_time": "2024-03-19T15:23:44.698765707Z",
     "start_time": "2024-03-19T15:23:43.859332610Z"
    }
   },
   "outputs": [],
   "source": [
    "from gapminder import gapminder\n",
    "display(gapminder)"
   ]
  },
  {
   "cell_type": "code",
   "execution_count": null,
   "metadata": {
    "ExecuteTime": {
     "end_time": "2024-03-19T15:23:44.700055833Z",
     "start_time": "2024-03-19T15:23:44.054413327Z"
    }
   },
   "outputs": [],
   "source": [
    "gapminder.head()"
   ]
  },
  {
   "cell_type": "markdown",
   "metadata": {},
   "source": [
    "Podemos ver información básica del DataFrame con la función info"
   ]
  },
  {
   "cell_type": "code",
   "execution_count": null,
   "metadata": {},
   "outputs": [],
   "source": [
    "gapminder.info()"
   ]
  },
  {
   "cell_type": "code",
   "execution_count": null,
   "metadata": {
    "ExecuteTime": {
     "end_time": "2024-03-19T15:23:44.701369278Z",
     "start_time": "2024-03-19T15:23:44.157026762Z"
    }
   },
   "outputs": [],
   "source": [
    "# Vemos todos los países en la base\n",
    "gapminder[\"country\"].unique()"
   ]
  },
  {
   "cell_type": "code",
   "execution_count": null,
   "metadata": {
    "ExecuteTime": {
     "end_time": "2024-03-19T15:23:44.846530051Z",
     "start_time": "2024-03-19T15:23:44.244913486Z"
    }
   },
   "outputs": [],
   "source": [
    "# Cuántos países son?\n",
    "gapminder[\"country\"].nunique()"
   ]
  },
  {
   "cell_type": "code",
   "execution_count": null,
   "metadata": {
    "ExecuteTime": {
     "end_time": "2024-03-19T15:23:44.847515587Z",
     "start_time": "2024-03-19T15:23:44.367442673Z"
    }
   },
   "outputs": [],
   "source": [
    "# Si queremos ver cuántos países hay en cada continente...\n",
    "# podemos agregupar por continente y ver el tamaño de cada grupo\n",
    "gapminder.groupby(\"continent\").size()"
   ]
  },
  {
   "cell_type": "code",
   "execution_count": null,
   "metadata": {
    "ExecuteTime": {
     "end_time": "2024-03-19T15:23:44.849159811Z",
     "start_time": "2024-03-19T15:23:44.427622728Z"
    }
   },
   "outputs": [],
   "source": [
    "# Pero cada país aparece varias veces, con datos de distintos años.\n",
    "# Para contar sin repeticion usamos nuevamente nunique\n",
    "gapminder.groupby(\"continent\")[\"country\"].nunique()"
   ]
  },
  {
   "cell_type": "code",
   "execution_count": null,
   "metadata": {
    "ExecuteTime": {
     "end_time": "2024-03-19T15:23:44.931473372Z",
     "start_time": "2024-03-19T15:23:44.518316808Z"
    }
   },
   "outputs": [],
   "source": [
    "# Si queremos calcular porcentajes, dividimos por la cantidad total de paises\n",
    "totalPaises = gapminder[\"country\"].nunique()\n",
    "gapminder.groupby(\"continent\")[\"country\"].nunique() / totalPaises"
   ]
  },
  {
   "cell_type": "code",
   "execution_count": null,
   "metadata": {
    "ExecuteTime": {
     "end_time": "2024-03-19T15:23:44.961927050Z",
     "start_time": "2024-03-19T15:23:44.606595008Z"
    }
   },
   "outputs": [],
   "source": [
    "# O podemos usar el comando value_counts y pasarle un parámetro para que nos de los valores normalizados.\n",
    "# (la normalización lleva la suma total a 1)\n",
    "gapminder[[\"continent\", \"country\"]].drop_duplicates().continent.value_counts(normalize=True)"
   ]
  },
  {
   "cell_type": "code",
   "execution_count": null,
   "metadata": {
    "ExecuteTime": {
     "end_time": "2024-03-19T15:23:44.963411631Z",
     "start_time": "2024-03-19T15:23:44.721009098Z"
    }
   },
   "outputs": [],
   "source": [
    "# Vemos todos los años disponibles\n",
    "gapminder[\"year\"].unique()"
   ]
  },
  {
   "cell_type": "code",
   "execution_count": null,
   "metadata": {
    "ExecuteTime": {
     "end_time": "2024-03-19T15:23:45.116261106Z",
     "start_time": "2024-03-19T15:23:44.805715110Z"
    }
   },
   "outputs": [],
   "source": [
    "# Tenemos datos de todos los países todos los años?\n",
    "# Agrupamos los datos por año y calculamos el tamaño de cada bloque\n",
    "gapminder.groupby(\"year\").size()"
   ]
  },
  {
   "cell_type": "code",
   "execution_count": null,
   "metadata": {
    "ExecuteTime": {
     "end_time": "2024-03-19T15:23:45.381182124Z",
     "start_time": "2024-03-19T15:23:44.896707526Z"
    }
   },
   "outputs": [],
   "source": [
    "# O podemos usar directamente el comando value_counts\n",
    "gapminder.year.value_counts()"
   ]
  },
  {
   "cell_type": "code",
   "execution_count": null,
   "metadata": {
    "ExecuteTime": {
     "end_time": "2024-03-19T15:23:45.453839268Z",
     "start_time": "2024-03-19T15:23:45.027009268Z"
    }
   },
   "outputs": [],
   "source": [
    "# También podemos por ejemplo calcular la poblacion total por año\n",
    "gapminder.groupby(\"year\")[\"pop\"].sum()"
   ]
  },
  {
   "cell_type": "markdown",
   "metadata": {},
   "source": [
    "### Gráficos simples de funciones o puntos en el plano XY.\n",
    "Vamos a graficar la población total mundial en función del año."
   ]
  },
  {
   "cell_type": "code",
   "execution_count": 93,
   "metadata": {
    "ExecuteTime": {
     "end_time": "2024-03-19T15:23:45.454437903Z",
     "start_time": "2024-03-19T15:23:45.132156941Z"
    }
   },
   "outputs": [
    {
     "data": {
      "text/plain": [
       "pandas.core.series.Series"
      ]
     },
     "execution_count": 93,
     "metadata": {},
     "output_type": "execute_result"
    }
   ],
   "source": [
    "pobAnual = gapminder.groupby(\"year\")[\"pop\"].sum()\n",
    "type(pobAnual)"
   ]
  },
  {
   "cell_type": "code",
   "execution_count": 94,
   "metadata": {},
   "outputs": [
    {
     "data": {
      "text/plain": [
       "year\n",
       "1952    2406957150\n",
       "1957    2664404580\n",
       "1962    2899782974\n",
       "1967    3217478384\n",
       "1972    3576977158\n",
       "1977    3930045807\n",
       "1982    4289436840\n",
       "1987    4691477418\n",
       "1992    5110710260\n",
       "1997    5515204472\n",
       "2002    5886977579\n",
       "2007    6251013179\n",
       "Name: pop, dtype: int64"
      ]
     },
     "execution_count": 94,
     "metadata": {},
     "output_type": "execute_result"
    }
   ],
   "source": [
    "pobAnual"
   ]
  },
  {
   "cell_type": "code",
   "execution_count": 95,
   "metadata": {},
   "outputs": [
    {
     "data": {
      "text/plain": [
       "Int64Index([1952, 1957, 1962, 1967, 1972, 1977, 1982, 1987, 1992, 1997, 2002,\n",
       "            2007],\n",
       "           dtype='int64', name='year')"
      ]
     },
     "execution_count": 95,
     "metadata": {},
     "output_type": "execute_result"
    }
   ],
   "source": [
    "pobAnual.index"
   ]
  },
  {
   "cell_type": "code",
   "execution_count": 97,
   "metadata": {
    "ExecuteTime": {
     "end_time": "2024-03-19T15:23:46.001868982Z",
     "start_time": "2024-03-19T15:23:45.387304245Z"
    }
   },
   "outputs": [
    {
     "data": {
      "text/plain": [
       "<matplotlib.axes._subplots.AxesSubplot at 0x1d0e117bf88>"
      ]
     },
     "execution_count": 97,
     "metadata": {},
     "output_type": "execute_result"
    },
    {
     "data": {
      "image/png": "[encoded data removed]",
      "text/plain": [
       "<Figure size 432x288 with 1 Axes>"
      ]
     },
     "metadata": {
      "needs_background": "light"
     },
     "output_type": "display_data"
    }
   ],
   "source": [
    "# Opción 1\n",
    "# Usamos la función plot de series de pandas\n",
    "pobAnual.plot()"
   ]
  },
  {
   "cell_type": "code",
   "execution_count": 100,
   "metadata": {},
   "outputs": [
    {
     "data": {
      "text/plain": [
       "<matplotlib.axes._subplots.AxesSubplot at 0x1d0e128a6c8>"
      ]
     },
     "execution_count": 100,
     "metadata": {},
     "output_type": "execute_result"
    },
    {
     "data": {
      "image/png": "[encoded data removed]",
      "text/plain": [
       "<Figure size 432x288 with 1 Axes>"
      ]
     },
     "metadata": {
      "needs_background": "light"
     },
     "output_type": "display_data"
    }
   ],
   "source": [
    "# O podemos graficar solo puntos\n",
    "pobAnual.plot(style = \".\")"
   ]
  },
  {
   "cell_type": "code",
   "execution_count": 101,
   "metadata": {
    "ExecuteTime": {
     "end_time": "2024-03-19T15:23:46.388427263Z",
     "start_time": "2024-03-19T15:23:45.978200471Z"
    }
   },
   "outputs": [
    {
     "data": {
      "text/plain": [
       "[<matplotlib.lines.Line2D at 0x1d0e1433348>]"
      ]
     },
     "execution_count": 101,
     "metadata": {},
     "output_type": "execute_result"
    },
    {
     "data": {
      "image/png": "[encoded data removed]",
      "text/plain": [
       "<Figure size 432x288 with 1 Axes>"
      ]
     },
     "metadata": {
      "needs_background": "light"
     },
     "output_type": "display_data"
    }
   ],
   "source": [
    "# Opcion 3\n",
    "# Asignamos los valores a variables (arrays de numpy) y graficamos las variables\n",
    "x = pobAnual.index\n",
    "y = pobAnual.values\n",
    "plt.plot(x,y)"
   ]
  },
  {
   "cell_type": "code",
   "execution_count": 103,
   "metadata": {},
   "outputs": [
    {
     "data": {
      "text/plain": [
       "<matplotlib.collections.PathCollection at 0x1d0e14e35c8>"
      ]
     },
     "execution_count": 103,
     "metadata": {},
     "output_type": "execute_result"
    },
    {
     "data": {
      "image/png": "[encoded data removed]",
      "text/plain": [
       "<Figure size 432x288 with 1 Axes>"
      ]
     },
     "metadata": {
      "needs_background": "light"
     },
     "output_type": "display_data"
    }
   ],
   "source": [
    "# Opcion 4\n",
    "# Matplotlib tiene una función scatter para graficar puntos\n",
    "plt.scatter(x,y)"
   ]
  },
  {
   "cell_type": "code",
   "execution_count": 104,
   "metadata": {
    "ExecuteTime": {
     "end_time": "2024-03-19T15:23:46.415752460Z",
     "start_time": "2024-03-19T15:23:46.393011114Z"
    }
   },
   "outputs": [],
   "source": [
    "# Vamos a analizar los datos de 2007\n",
    "datos2007 = gapminder[gapminder[\"year\"]==2007]"
   ]
  },
  {
   "cell_type": "code",
   "execution_count": 106,
   "metadata": {
    "ExecuteTime": {
     "end_time": "2024-03-19T15:23:46.964079052Z",
     "start_time": "2024-03-19T15:23:46.401206852Z"
    }
   },
   "outputs": [
    {
     "data": {
      "text/plain": [
       "[<matplotlib.lines.Line2D at 0x1d0e1465348>]"
      ]
     },
     "execution_count": 106,
     "metadata": {},
     "output_type": "execute_result"
    },
    {
     "data": {
      "image/png": "[encoded data removed]",
      "text/plain": [
       "<Figure size 432x288 with 1 Axes>"
      ]
     },
     "metadata": {
      "needs_background": "light"
     },
     "output_type": "display_data"
    }
   ],
   "source": [
    "# Queremos ver si hay relación entre el producto bruto y la expectativa de vida\n",
    "plt.plot(datos2007.gdpPercap, datos2007.lifeExp)"
   ]
  },
  {
   "cell_type": "code",
   "execution_count": 107,
   "metadata": {
    "ExecuteTime": {
     "end_time": "2024-03-19T15:23:47.227632707Z",
     "start_time": "2024-03-19T15:23:46.861070486Z"
    }
   },
   "outputs": [
    {
     "data": {
      "image/png": "[encoded data removed]",
      "text/plain": [
       "<Figure size 432x288 with 1 Axes>"
      ]
     },
     "metadata": {
      "needs_background": "light"
     },
     "output_type": "display_data"
    }
   ],
   "source": [
    "# Ay no, eso no, hacemos un \"scatter plot\"\n",
    "plt.scatter(datos2007.gdpPercap, datos2007.lifeExp)\n",
    "plt.show()"
   ]
  },
  {
   "cell_type": "code",
   "execution_count": 109,
   "metadata": {
    "ExecuteTime": {
     "end_time": "2024-03-19T15:23:47.954400781Z",
     "start_time": "2024-03-19T15:23:47.193985736Z"
    }
   },
   "outputs": [
    {
     "data": {
      "image/png": "[encoded data removed]",
      "text/plain": [
       "<Figure size 432x288 with 1 Axes>"
      ]
     },
     "metadata": {
      "needs_background": "light"
     },
     "output_type": "display_data"
    }
   ],
   "source": [
    "# Se ve mejor la correlación si usamos escala logaritmica en el eje X\n",
    "plt.scatter(datos2007.gdpPercap, datos2007.lifeExp)\n",
    "plt.xscale('log')"
   ]
  },
  {
   "cell_type": "markdown",
   "metadata": {},
   "source": [
    "Vamos a mejorar un poco el gráfico"
   ]
  },
  {
   "cell_type": "code",
   "execution_count": 111,
   "metadata": {
    "ExecuteTime": {
     "end_time": "2024-03-19T15:23:48.701594467Z",
     "start_time": "2024-03-19T15:23:47.944668297Z"
    }
   },
   "outputs": [
    {
     "data": {
      "image/png": "[encoded data removed]",
      "text/plain": [
       "<Figure size 432x288 with 1 Axes>"
      ]
     },
     "metadata": {
      "needs_background": "light"
     },
     "output_type": "display_data"
    }
   ],
   "source": [
    "# Agregamos etiquetas al gráfico y a los ejes\n",
    "plt.scatter(datos2007.gdpPercap, datos2007.lifeExp)\n",
    "plt.xscale('log')\n",
    "plt.xlabel('GDP per Capita [en USD]')\n",
    "plt.ylabel('Expectativa de vida [en años]')\n",
    "plt.title('Desarrollo Mundial en 2007')\n",
    "plt.show()"
   ]
  },
  {
   "cell_type": "markdown",
   "metadata": {},
   "source": [
    "Reemplacemos las marcas en el eje $x$ 10³, 10⁴, 10⁵ con 1k, 10k y 100k. "
   ]
  },
  {
   "cell_type": "code",
   "execution_count": 112,
   "metadata": {
    "ExecuteTime": {
     "end_time": "2024-03-19T15:23:49.529819345Z",
     "start_time": "2024-03-19T15:23:48.700011287Z"
    }
   },
   "outputs": [
    {
     "data": {
      "image/png": "[encoded data removed]",
      "text/plain": [
       "<Figure size 432x288 with 1 Axes>"
      ]
     },
     "metadata": {
      "needs_background": "light"
     },
     "output_type": "display_data"
    }
   ],
   "source": [
    "plt.scatter(datos2007.gdpPercap, datos2007.lifeExp)\n",
    "plt.xscale('log')\n",
    "plt.xlabel('GDP per Capita [en USD]')\n",
    "plt.ylabel('Expectativa de vida [en años]')\n",
    "plt.title('Desarrollo Mundial en 2007')\n",
    "plt.xticks([1000, 10000, 100000],['1k', '10k', '100k'])\n",
    "plt.show()"
   ]
  },
  {
   "cell_type": "code",
   "execution_count": 122,
   "metadata": {
    "ExecuteTime": {
     "end_time": "2024-03-19T15:23:50.528163241Z",
     "start_time": "2024-03-19T15:23:49.498944735Z"
    }
   },
   "outputs": [
    {
     "data": {
      "image/png": "[encoded data removed]",
      "text/plain": [
       "<Figure size 432x288 with 1 Axes>"
      ]
     },
     "metadata": {
      "needs_background": "light"
     },
     "output_type": "display_data"
    }
   ],
   "source": [
    "# Almacenamos la población como un array de numpy: np_pop\n",
    "np_pop = np.array(datos2007[\"pop\"])\n",
    "np_pop2 = np.array(datos2007[\"pop\"])*2\n",
    "# Usamos scatterplot de seaborn para poder personalizar mejor el grafico\n",
    "sns.scatterplot(x = datos2007['gdpPercap'], y = datos2007['lifeExp'], hue = datos2007['continent'], size = np_pop*2, sizes=(20,400))\n",
    "plt.grid(True)\n",
    "plt.xscale('log')\n",
    "plt.xlabel('GDP per Capita [en USD]')\n",
    "plt.ylabel('Expectativa de vida [en años]')\n",
    "plt.title('Desarrollo Mundial en 2007')\n",
    "plt.xticks([1000, 10000, 100000],['1k', '10k', '100k'])\n",
    "plt.show()"
   ]
  },
  {
   "cell_type": "code",
   "execution_count": null,
   "metadata": {
    "ExecuteTime": {
     "end_time": "2024-03-19T15:23:51.443282463Z",
     "start_time": "2024-03-19T15:23:50.525686974Z"
    }
   },
   "outputs": [],
   "source": [
    "# Aumenta el tamaño del gráfico\n",
    "plt.figure(dpi=150)\n",
    "# Alcenamos la población como un array de numpy: np_pop\n",
    "np_pop = np.array(datos2007[\"pop\"])\n",
    "np_pop2 = np_pop*2\n",
    "# Usamos scatterplot de seaborn para poder personalizar mejor el grafico\n",
    "sns.scatterplot(x = datos2007['gdpPercap'], y = datos2007['lifeExp'], hue = datos2007['continent'], size = np_pop2, sizes=(20,400))\n",
    "plt.grid(True)\n",
    "plt.xscale('log')\n",
    "plt.xlabel('GDP per Capita [en USD]')\n",
    "plt.ylabel('Expectativa de vida [en años]')\n",
    "plt.title('Desarrollo Mundial en 2007')\n",
    "plt.xticks([1000, 10000, 100000],['1k', '10k', '100k'])\n",
    "plt.show()"
   ]
  },
  {
   "cell_type": "markdown",
   "metadata": {},
   "source": [
    "## Estadística descriptiva"
   ]
  },
  {
   "cell_type": "markdown",
   "metadata": {},
   "source": [
    "Mirando los datos de 2007, ¿cuál es el país con mayor expectativa de vida? ¿Cuál es el país con menor expectativa de vida?"
   ]
  },
  {
   "cell_type": "code",
   "execution_count": null,
   "metadata": {},
   "outputs": [],
   "source": []
  },
  {
   "cell_type": "markdown",
   "metadata": {},
   "source": [
    "### Medidas de tendencia central"
   ]
  },
  {
   "cell_type": "markdown",
   "metadata": {},
   "source": [
    "Para el año 2007, calcular el valor medio y la mediana de las variables gdpPercap y lifeExp entre todos los países.\n",
    "Son similares o distintas? A qué lo atribuyen? Consideran que alguna resume mejor la realidad que la otra?\n"
   ]
  },
  {
   "cell_type": "code",
   "execution_count": null,
   "metadata": {},
   "outputs": [],
   "source": [
    "datos2007[\"lifeExp\"].median()"
   ]
  },
  {
   "cell_type": "code",
   "execution_count": null,
   "metadata": {},
   "outputs": [],
   "source": [
    "datos2007[\"lifeExp\"].mean()"
   ]
  },
  {
   "cell_type": "code",
   "execution_count": null,
   "metadata": {},
   "outputs": [],
   "source": [
    "datos2007[\"gdpPercap\"].median()"
   ]
  },
  {
   "cell_type": "code",
   "execution_count": null,
   "metadata": {},
   "outputs": [],
   "source": [
    "datos2007[\"gdpPercap\"].mean()"
   ]
  },
  {
   "cell_type": "markdown",
   "metadata": {},
   "source": [
    "Es lo mismo el promedio de entre todos los países de la expectativa de vida y el promedio entre todas las personas entre todas las personas?\n",
    "¿Cómo podemos calcular el promedio entre todas las personas?\n"
   ]
  },
  {
   "cell_type": "code",
   "execution_count": null,
   "metadata": {},
   "outputs": [],
   "source": []
  },
  {
   "cell_type": "markdown",
   "metadata": {},
   "source": [
    "### Medidas de dispersión"
   ]
  },
  {
   "cell_type": "markdown",
   "metadata": {},
   "source": [
    "Para el año 2007, calcular la varianza y el desvío estándar de las variables gdpPercap y lifeExp entre todos los países."
   ]
  },
  {
   "cell_type": "code",
   "execution_count": 91,
   "metadata": {},
   "outputs": [
    {
     "data": {
      "text/plain": [
       "145.75782404714803"
      ]
     },
     "execution_count": 91,
     "metadata": {},
     "output_type": "execute_result"
    }
   ],
   "source": [
    "datos2007[\"lifeExp\"].var()"
   ]
  },
  {
   "cell_type": "code",
   "execution_count": 92,
   "metadata": {},
   "outputs": [
    {
     "data": {
      "text/plain": [
       "12.073020502225118"
      ]
     },
     "execution_count": 92,
     "metadata": {},
     "output_type": "execute_result"
    }
   ],
   "source": [
    "datos2007[\"lifeExp\"].std()"
   ]
  },
  {
   "cell_type": "code",
   "execution_count": null,
   "metadata": {},
   "outputs": [],
   "source": []
  }
 ],
 "metadata": {
  "kernelspec": {
   "display_name": "Python 3",
   "language": "python",
   "name": "python3"
  },
  "language_info": {
   "codemirror_mode": {
    "name": "ipython",
    "version": 3
   },
   "file_extension": ".py",
   "mimetype": "text/x-python",
   "name": "python",
   "nbconvert_exporter": "python",
   "pygments_lexer": "ipython3",
   "version": "3.7.6"
  }
 },
 "nbformat": 4,
 "nbformat_minor": 5
}
